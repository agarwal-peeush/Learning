{
  "nbformat": 4,
  "nbformat_minor": 0,
  "metadata": {
    "colab": {
      "name": "SigmoidNeuron.ipynb",
      "version": "0.3.2",
      "provenance": [],
      "private_outputs": true,
      "include_colab_link": true
    },
    "kernelspec": {
      "name": "python3",
      "display_name": "Python 3"
    }
  },
  "cells": [
    {
      "cell_type": "markdown",
      "metadata": {
        "id": "view-in-github",
        "colab_type": "text"
      },
      "source": [
        "<a href=\"https://colab.research.google.com/github/agarwal-peeush/Learning/blob/PadhAI_learning/Learning-Python/padhAI/SigmoidNeuron.ipynb\" target=\"_parent\"><img src=\"https://colab.research.google.com/assets/colab-badge.svg\" alt=\"Open In Colab\"/></a>"
      ]
    },
    {
      "cell_type": "code",
      "metadata": {
        "id": "bsvydDTCU9UP",
        "colab_type": "code",
        "colab": {}
      },
      "source": [
        "import numpy as np\n",
        "import matplotlib.pyplot as plt\n",
        "from sklearn.metrics import mean_squared_error\n",
        "from tqdm import tqdm_notebook"
      ],
      "execution_count": 0,
      "outputs": []
    },
    {
      "cell_type": "markdown",
      "metadata": {
        "id": "czMJsvXKVCZP",
        "colab_type": "text"
      },
      "source": [
        "# Plotting Sigmoid Function"
      ]
    },
    {
      "cell_type": "markdown",
      "metadata": {
        "id": "TBGxdf0gYkqQ",
        "colab_type": "text"
      },
      "source": [
        "## 1-D Sigmoid Function"
      ]
    },
    {
      "cell_type": "markdown",
      "metadata": {
        "id": "Mrton-LjVMBx",
        "colab_type": "text"
      },
      "source": [
        "Sigmoid Function: $S_{w,b}(x) = \\frac{1}{1+e^{-(wx+b)}}$"
      ]
    },
    {
      "cell_type": "code",
      "metadata": {
        "id": "3rxsqw2lVKox",
        "colab_type": "code",
        "colab": {}
      },
      "source": [
        "def sigmoid(x, w, b):\n",
        "  return 1 / (1 + np.exp(-(w*x + b)))"
      ],
      "execution_count": 0,
      "outputs": []
    },
    {
      "cell_type": "code",
      "metadata": {
        "id": "Rr9WnmBKVyMZ",
        "colab_type": "code",
        "colab": {}
      },
      "source": [
        "sigmoid(1, 0.5, 0)"
      ],
      "execution_count": 0,
      "outputs": []
    },
    {
      "cell_type": "code",
      "metadata": {
        "id": "JD-imtCdV0Yo",
        "colab_type": "code",
        "colab": {}
      },
      "source": [
        "w = 0.9\n",
        "b = 0.1\n",
        "X = np.linspace(-10, 10, 100)\n",
        "Y = sigmoid(X, w, b)"
      ],
      "execution_count": 0,
      "outputs": []
    },
    {
      "cell_type": "code",
      "metadata": {
        "id": "VbS5CptbV40B",
        "colab_type": "code",
        "colab": {}
      },
      "source": [
        "type(X)"
      ],
      "execution_count": 0,
      "outputs": []
    },
    {
      "cell_type": "code",
      "metadata": {
        "id": "iojFEzfCWJPC",
        "colab_type": "code",
        "colab": {}
      },
      "source": [
        "type(Y)"
      ],
      "execution_count": 0,
      "outputs": []
    },
    {
      "cell_type": "code",
      "metadata": {
        "id": "UV32qiZAWKww",
        "colab_type": "code",
        "colab": {}
      },
      "source": [
        "# Plot sigmoid function\n",
        "plt.plot(X,Y)\n",
        "plt.show()"
      ],
      "execution_count": 0,
      "outputs": []
    },
    {
      "cell_type": "code",
      "metadata": {
        "id": "kYuSuaQaWUpY",
        "colab_type": "code",
        "colab": {}
      },
      "source": [
        "# Flip of sigmoid on change of sign in w\n",
        "w = -0.9 #Previous 0.9\n",
        "b = 0.1\n",
        "X = np.linspace(-10, 10, 100)\n",
        "Y = sigmoid(X, w, b)\n",
        "\n",
        "# Plot sigmoid function\n",
        "plt.plot(X,Y)\n",
        "plt.show()"
      ],
      "execution_count": 0,
      "outputs": []
    },
    {
      "cell_type": "code",
      "metadata": {
        "id": "6QYnaEOeWfWh",
        "colab_type": "code",
        "colab": {}
      },
      "source": [
        "# moving to right on decrease in b\n",
        "w = 0.9\n",
        "b = -5 #Previous 0.1\n",
        "X = np.linspace(-10, 10, 100)\n",
        "Y = sigmoid(X, w, b)\n",
        "\n",
        "# Plot sigmoid function\n",
        "plt.plot(X,Y)\n",
        "plt.show()"
      ],
      "execution_count": 0,
      "outputs": []
    },
    {
      "cell_type": "code",
      "metadata": {
        "id": "2nK3MJogXP42",
        "colab_type": "code",
        "colab": {}
      },
      "source": [
        "w = 1 #@param {type: \"slider\", min: -2, max: 2, step:0.1}\n",
        "b = 1.9 #@param {type: \"slider\", min: -2, max: 2, step:0.1}\n",
        "X = np.linspace(-10, 10, 100)\n",
        "Y = sigmoid(X, w, b)\n",
        "\n",
        "# Plot sigmoid function\n",
        "plt.plot(X,Y)\n",
        "plt.show()"
      ],
      "execution_count": 0,
      "outputs": []
    },
    {
      "cell_type": "code",
      "metadata": {
        "id": "41OeKDFRW1pI",
        "colab_type": "code",
        "colab": {}
      },
      "source": [
        ""
      ],
      "execution_count": 0,
      "outputs": []
    },
    {
      "cell_type": "markdown",
      "metadata": {
        "id": "owTZxmk5Yo_3",
        "colab_type": "text"
      },
      "source": [
        "## 2-D Sigmoid Function"
      ]
    },
    {
      "cell_type": "markdown",
      "metadata": {
        "id": "KxP0KuB1YvNJ",
        "colab_type": "text"
      },
      "source": [
        "Sigmoid function: $S_{w_1,w_2,b}({x_1,x_2}) = \\frac{1}{1+e^{-(w_1 x_1 + w_2 x_2 + b)}}$"
      ]
    },
    {
      "cell_type": "code",
      "metadata": {
        "id": "HYoM2anQYt6D",
        "colab_type": "code",
        "colab": {}
      },
      "source": [
        "def sigmoid_2d(x1, x2, w1, w2, b):\n",
        "  return 1/(1+np.exp(-(w1*x1 + w2*x2 + b)))"
      ],
      "execution_count": 0,
      "outputs": []
    },
    {
      "cell_type": "code",
      "metadata": {
        "id": "76vDXF1mZ6qv",
        "colab_type": "code",
        "colab": {}
      },
      "source": [
        "sigmoid_2d(1, 0, 0.5, 0, 0)"
      ],
      "execution_count": 0,
      "outputs": []
    },
    {
      "cell_type": "code",
      "metadata": {
        "id": "NfT-CtsFaGLl",
        "colab_type": "code",
        "colab": {}
      },
      "source": [
        "# To plot 3-d \n",
        "from mpl_toolkits import mplot3d"
      ],
      "execution_count": 0,
      "outputs": []
    },
    {
      "cell_type": "code",
      "metadata": {
        "id": "8PvF8Jveapv_",
        "colab_type": "code",
        "colab": {}
      },
      "source": [
        "X1 = np.linspace(-10, 10, 100)\n",
        "X2 = np.linspace(-10, 10, 100)\n",
        "\n",
        "XX1, XX2 = np.meshgrid(X1, X2)"
      ],
      "execution_count": 0,
      "outputs": []
    },
    {
      "cell_type": "code",
      "metadata": {
        "id": "zUHpjHKwa7QG",
        "colab_type": "code",
        "colab": {}
      },
      "source": [
        "print(X1.shape, X2.shape, XX1.shape, XX2.shape)"
      ],
      "execution_count": 0,
      "outputs": []
    },
    {
      "cell_type": "code",
      "metadata": {
        "id": "cOxAV3_wbAU_",
        "colab_type": "code",
        "colab": {}
      },
      "source": [
        "w1 = 0.5\n",
        "w2 = 0.5\n",
        "b = 0\n",
        "Y = sigmoid_2d(XX1, XX2, w1, w2, b)"
      ],
      "execution_count": 0,
      "outputs": []
    },
    {
      "cell_type": "code",
      "metadata": {
        "id": "p-kGHqOTirBy",
        "colab_type": "code",
        "colab": {}
      },
      "source": [
        "import matplotlib.colors\n",
        "\n",
        "mycmap = matplotlib.colors.LinearSegmentedColormap.from_list(\"\", [\"red\", \"yellow\", \"green\"])"
      ],
      "execution_count": 0,
      "outputs": []
    },
    {
      "cell_type": "code",
      "metadata": {
        "id": "PzVBKep_iCka",
        "colab_type": "code",
        "colab": {}
      },
      "source": [
        "plt.contourf(XX1, XX2, Y, cmap=mycmap, alpha=0.6)\n",
        "plt.show()"
      ],
      "execution_count": 0,
      "outputs": []
    },
    {
      "cell_type": "code",
      "metadata": {
        "id": "6Haqmpp5bTvf",
        "colab_type": "code",
        "colab": {}
      },
      "source": [
        "fig = plt.figure()\n",
        "ax = plt.axes(projection='3d')\n",
        "ax.plot_surface(XX1, XX2, Y, cmap='viridis')\n",
        "ax.set_xlabel('x1')\n",
        "ax.set_ylabel('x2')\n",
        "ax.set_zlabel('y')\n",
        "\n",
        "ax.view_init(30, 270)"
      ],
      "execution_count": 0,
      "outputs": []
    },
    {
      "cell_type": "code",
      "metadata": {
        "id": "SfxwWnnzbgDn",
        "colab_type": "code",
        "colab": {}
      },
      "source": [
        "w1 = 0.5\n",
        "w2 = 2\n",
        "b = 0\n",
        "Y = sigmoid_2d(XX1, XX2, w1, w2, b)\n",
        "\n",
        "fig = plt.figure()\n",
        "ax = plt.axes(projection='3d')\n",
        "ax.plot_surface(XX1, XX2, Y, cmap='viridis')\n",
        "ax.set_xlabel('x1')\n",
        "ax.set_ylabel('x2')\n",
        "ax.set_zlabel('y')\n",
        "\n",
        "ax.view_init(30, 180)"
      ],
      "execution_count": 0,
      "outputs": []
    },
    {
      "cell_type": "code",
      "metadata": {
        "id": "g6LcWHfqc_Se",
        "colab_type": "code",
        "colab": {}
      },
      "source": [
        "w1 = 0.5\n",
        "w2 = 0.5\n",
        "b = 1\n",
        "Y = sigmoid_2d(XX1, XX2, w1, w2, b)\n",
        "\n",
        "fig = plt.figure()\n",
        "ax = plt.axes(projection='3d')\n",
        "ax.plot_surface(XX1, XX2, Y, cmap='viridis')\n",
        "ax.set_xlabel('x1')\n",
        "ax.set_ylabel('x2')\n",
        "ax.set_zlabel('y')\n",
        "\n",
        "ax.view_init(30, 180)"
      ],
      "execution_count": 0,
      "outputs": []
    },
    {
      "cell_type": "markdown",
      "metadata": {
        "id": "fr9cQpOtdYa4",
        "colab_type": "text"
      },
      "source": [
        "## Compute loss for a given dataset"
      ]
    },
    {
      "cell_type": "code",
      "metadata": {
        "id": "2EP68Qb_dbsW",
        "colab_type": "code",
        "colab": {}
      },
      "source": [
        "w_unknown = 0.5\n",
        "b_unknown = 0.25\n",
        "\n",
        "X = np.random.random(25) * 20 - 10\n",
        "Y = sigmoid(X, w_unknown, b_unknown)"
      ],
      "execution_count": 0,
      "outputs": []
    },
    {
      "cell_type": "code",
      "metadata": {
        "id": "XiZ3Ohyed9m1",
        "colab_type": "code",
        "colab": {}
      },
      "source": [
        "plt.plot(X, Y, '*')\n",
        "plt.show()"
      ],
      "execution_count": 0,
      "outputs": []
    },
    {
      "cell_type": "code",
      "metadata": {
        "id": "ZZWbwkQIe1Ph",
        "colab_type": "code",
        "colab": {}
      },
      "source": [
        "def calculate_loss(X, Y, w_est, b_est):\n",
        "  loss = 0\n",
        "  for x, y in zip(X, Y):\n",
        "    y_hat = sigmoid(x, w_est, b_est)\n",
        "    loss += (y - y_hat) **2\n",
        "  return loss"
      ],
      "execution_count": 0,
      "outputs": []
    },
    {
      "cell_type": "code",
      "metadata": {
        "id": "Iiraa1uNeAI9",
        "colab_type": "code",
        "colab": {}
      },
      "source": [
        "W = np.linspace(0, 1, 100)\n",
        "B = np.linspace(-1, 1, 100)\n",
        "\n",
        "WW, BB = np.meshgrid(W, B)\n",
        "\n",
        "Loss = np.zeros(WW.shape)"
      ],
      "execution_count": 0,
      "outputs": []
    },
    {
      "cell_type": "code",
      "metadata": {
        "id": "SUmHda7mfRHJ",
        "colab_type": "code",
        "colab": {}
      },
      "source": [
        "for i in range(WW.shape[0]):\n",
        "  for j in range(WW.shape[1]):\n",
        "    Loss[i,j] = calculate_loss(X, Y, WW[i, j], BB[i, j])"
      ],
      "execution_count": 0,
      "outputs": []
    },
    {
      "cell_type": "code",
      "metadata": {
        "id": "Pd05KesZfTJl",
        "colab_type": "code",
        "colab": {}
      },
      "source": [
        "fig = plt.figure()\n",
        "ax = plt.axes(projection='3d')\n",
        "ax.plot_surface(WW, BB, Loss, cmap='viridis')\n",
        "ax.set_xlabel('w')\n",
        "ax.set_ylabel('b')\n",
        "ax.set_zlabel('loss')\n",
        "\n",
        "#ax.view_init(30, 180)"
      ],
      "execution_count": 0,
      "outputs": []
    },
    {
      "cell_type": "code",
      "metadata": {
        "id": "bR49TcR2fiIE",
        "colab_type": "code",
        "colab": {}
      },
      "source": [
        "ij = np.argmin(Loss)\n",
        "i = int(np.floor(ij/Loss.shape[1]))\n",
        "j = int( ij - i * Loss.shape[1])\n",
        "print(i, j)"
      ],
      "execution_count": 0,
      "outputs": []
    },
    {
      "cell_type": "code",
      "metadata": {
        "id": "Dla7wW2ygSkf",
        "colab_type": "code",
        "colab": {}
      },
      "source": [
        "print(Loss[i, j], WW[i, j], BB[i, j])"
      ],
      "execution_count": 0,
      "outputs": []
    },
    {
      "cell_type": "code",
      "metadata": {
        "id": "mRsKtX6tgvLU",
        "colab_type": "code",
        "colab": {}
      },
      "source": [
        ""
      ],
      "execution_count": 0,
      "outputs": []
    },
    {
      "cell_type": "markdown",
      "metadata": {
        "id": "EUVlZ_g1kLzf",
        "colab_type": "text"
      },
      "source": [
        "# SigmoidNeuron class"
      ]
    },
    {
      "cell_type": "code",
      "metadata": {
        "id": "JwuAM2GJkLCN",
        "colab_type": "code",
        "colab": {}
      },
      "source": [
        "class SigmoidNeuron:\n",
        "  def __init__(self):\n",
        "    self.w = None\n",
        "    self.b = None\n",
        "\n",
        "  def perceptron(self, x):\n",
        "    return np.dot(x, self.w.T) + self.b\n",
        "\n",
        "  def sigmoid(self, x):\n",
        "    return 1.0 / (1.0 + np.exp(-x))\n",
        "\n",
        "  def grad_w(self, x, y):\n",
        "    y_pred = self.sigmoid(self.perceptron(x))\n",
        "    return (y_pred - y) * y_pred * (1 - y_pred) * x\n",
        "    \n",
        "  def grad_b(self, x, y):\n",
        "    y_pred = self.sigmoid(self.perceptron(x))\n",
        "    return (y_pred - y) * y_pred * (1 - y_pred)\n",
        "\n",
        "  def fit(self, X, Y, epochs = 1, lr = 1, initialise=True, display_loss = False):\n",
        "    # initialise w, b\n",
        "    if initialise:\n",
        "      self.w = np.random.randn(1, X.shape[1])\n",
        "      self.b = 0\n",
        "\n",
        "    if display_loss:\n",
        "      loss = {}\n",
        "\n",
        "    # iterate through data\n",
        "    for i in tqdm_notebook(range(epochs), total=epochs, unit='epoch'):\n",
        "      dw = 0\n",
        "      db = 0\n",
        "      for x, y in zip(X, Y):\n",
        "        dw += self.grad_w(x, y)\n",
        "        db += self.grad_b(x, y)\n",
        "      \n",
        "      self.w -= lr * dw\n",
        "      self.b -= lr * db\n",
        "\n",
        "      if display_loss:\n",
        "        Y_pred = self.sigmoid(self.perceptron(X))\n",
        "        loss[i] = mean_squared_error(Y_pred, Y)\n",
        "    \n",
        "    if display_loss:\n",
        "      plt.plot(loss.values())\n",
        "      plt.xlabel('Epochs')\n",
        "      plt.ylabel('Loss')\n",
        "      plt.show()\n",
        "\n",
        "  def predict(self, X):\n",
        "    Y_pred = []\n",
        "    for x in X:\n",
        "      result = self.sigmoid(self.perceptron(x))\n",
        "      Y_pred.append(result)\n",
        "    return np.array(Y_pred)"
      ],
      "execution_count": 0,
      "outputs": []
    },
    {
      "cell_type": "markdown",
      "metadata": {
        "id": "1rz3b3rjmj5a",
        "colab_type": "text"
      },
      "source": [
        "## Fit for Toy data"
      ]
    },
    {
      "cell_type": "code",
      "metadata": {
        "id": "f1O8_IMimeQB",
        "colab_type": "code",
        "colab": {}
      },
      "source": [
        "X = np.asarray([[2.5, 2.5], [4, -1], [1, -4], [-3, 1.25], [-2, -4], [1, 5]])\n",
        "Y = [1,1,1,0,0,0]"
      ],
      "execution_count": 0,
      "outputs": []
    },
    {
      "cell_type": "code",
      "metadata": {
        "id": "IE4oan0zm2k5",
        "colab_type": "code",
        "colab": {}
      },
      "source": [
        "model = SigmoidNeuron()\n",
        "model.fit(X, Y, 1, 0.25, True)"
      ],
      "execution_count": 0,
      "outputs": []
    },
    {
      "cell_type": "code",
      "metadata": {
        "id": "qqQI0ii3m98p",
        "colab_type": "code",
        "colab": {}
      },
      "source": [
        "print(model.w, model.b)"
      ],
      "execution_count": 0,
      "outputs": []
    },
    {
      "cell_type": "code",
      "metadata": {
        "id": "YK-9uUxbnFNw",
        "colab_type": "code",
        "colab": {}
      },
      "source": [
        "model.fit(X, Y, 1, 0.25, True)\n",
        "for i in range(10):\n",
        "  print(model.w, model.b)\n",
        "  model.fit(X, Y, 1, 0.25, False)"
      ],
      "execution_count": 0,
      "outputs": []
    },
    {
      "cell_type": "code",
      "metadata": {
        "id": "haYHAxJppefK",
        "colab_type": "code",
        "colab": {}
      },
      "source": [
        "def plot_sigmoidNeuron(X, Y, model, ax):\n",
        "  X1 = np.linspace(-10, 10, 100)\n",
        "  X2 = np.linspace(-10, 10, 100)\n",
        "  XX1, XX2 = np.meshgrid(X1, X2)\n",
        "  YY = np.zeros(XX1.shape)\n",
        "  for i in range(X2.size):\n",
        "    for j in range(X1.size):\n",
        "      val = np.asarray([X1[j],X2[i]])\n",
        "      YY[i,j] = model.sigmoid(model.perceptron(val))\n",
        "  \n",
        "  ax.contourf(XX1, XX2, YY, cmap=mycmap, alpha=0.6)\n",
        "  ax.scatter(X[:,0],X[:,1],c=Y,cmap=mycmap)\n",
        "  plt.plot()\n"
      ],
      "execution_count": 0,
      "outputs": []
    },
    {
      "cell_type": "code",
      "metadata": {
        "id": "j8l7cUCen-1h",
        "colab_type": "code",
        "colab": {}
      },
      "source": [
        "model.fit(X, Y, 1, 0.25, True)\n",
        "N = 30\n",
        "plt.figure(figsize=(10, N*5))\n",
        "for i in range(N):\n",
        "  #print(model.w, model.b)\n",
        "  ax = plt.subplot(N, 1, i+1)\n",
        "  plot_sigmoidNeuron(X, Y, model, ax)\n",
        "  model.fit(X, Y, 1, 0.25, False)"
      ],
      "execution_count": 0,
      "outputs": []
    },
    {
      "cell_type": "markdown",
      "metadata": {
        "id": "OjC_MKgsx9ed",
        "colab_type": "text"
      },
      "source": [
        "# Load Data"
      ]
    },
    {
      "cell_type": "code",
      "metadata": {
        "id": "ydePm19iyGzV",
        "colab_type": "code",
        "colab": {}
      },
      "source": [
        "import pandas as pd\n",
        "import numpy as np"
      ],
      "execution_count": 0,
      "outputs": []
    },
    {
      "cell_type": "code",
      "metadata": {
        "id": "NR2FkXLTyx2L",
        "colab_type": "code",
        "colab": {}
      },
      "source": [
        "# Install the PyDrive wrapper & import libraries.\n",
        "# This only needs to be done once per notebook.\n",
        "!pip install -U -q PyDrive\n",
        "from pydrive.auth import GoogleAuth\n",
        "from pydrive.drive import GoogleDrive\n",
        "from google.colab import auth\n",
        "from oauth2client.client import GoogleCredentials\n",
        "\n",
        "# Authenticate and create the PyDrive client.\n",
        "# This only needs to be done once per notebook.\n",
        "auth.authenticate_user()\n",
        "gauth = GoogleAuth()\n",
        "gauth.credentials = GoogleCredentials.get_application_default()\n",
        "drive = GoogleDrive(gauth)\n",
        "\n",
        "# Download a file based on its file ID.\n",
        "# https://drive.google.com/open?id=1D91qQiJ6AuNC1TrHPRyc-Bx0N28UPSmo\n",
        "# A file ID looks like: laggVyWshwcyP6kEI-y_W3P8D26sz\n",
        "file_id = '1D91qQiJ6AuNC1TrHPRyc-Bx0N28UPSmo'\n",
        "downloaded = drive.CreateFile({'id': file_id})\n",
        "downloaded.GetContentFile('mobile_cleaned_local.csv')\n",
        "#print('Downloaded content \"{}\"'.format(downloaded.GetContentString()))"
      ],
      "execution_count": 0,
      "outputs": []
    },
    {
      "cell_type": "code",
      "metadata": {
        "id": "mYjpsD9kzlug",
        "colab_type": "code",
        "colab": {}
      },
      "source": [
        "!ls"
      ],
      "execution_count": 0,
      "outputs": []
    },
    {
      "cell_type": "code",
      "metadata": {
        "id": "UeL6tOJGzmvK",
        "colab_type": "code",
        "colab": {}
      },
      "source": [
        "data = pd.read_csv('mobile_cleaned_local.csv')"
      ],
      "execution_count": 0,
      "outputs": []
    },
    {
      "cell_type": "code",
      "metadata": {
        "id": "tdOLnSMIzuTl",
        "colab_type": "code",
        "colab": {}
      },
      "source": [
        "data.head()"
      ],
      "execution_count": 0,
      "outputs": []
    },
    {
      "cell_type": "code",
      "metadata": {
        "id": "WCi7qLrBzval",
        "colab_type": "code",
        "colab": {}
      },
      "source": [
        "data.shape"
      ],
      "execution_count": 0,
      "outputs": []
    },
    {
      "cell_type": "code",
      "metadata": {
        "id": "cvy-dYBc0af3",
        "colab_type": "code",
        "colab": {}
      },
      "source": [
        "X = data.drop('Rating', axis=1)\n",
        "Y = data['Rating'].values"
      ],
      "execution_count": 0,
      "outputs": []
    },
    {
      "cell_type": "code",
      "metadata": {
        "id": "zGJqI2w90jmN",
        "colab_type": "code",
        "colab": {}
      },
      "source": [
        "print(X.shape, Y.shape)"
      ],
      "execution_count": 0,
      "outputs": []
    },
    {
      "cell_type": "code",
      "metadata": {
        "id": "T3K-b81B0l18",
        "colab_type": "code",
        "colab": {}
      },
      "source": [
        "X.head()"
      ],
      "execution_count": 0,
      "outputs": []
    },
    {
      "cell_type": "code",
      "metadata": {
        "id": "6Zhes2UY0wg1",
        "colab_type": "code",
        "colab": {}
      },
      "source": [
        "Y[:5]"
      ],
      "execution_count": 0,
      "outputs": []
    },
    {
      "cell_type": "code",
      "metadata": {
        "id": "HX6nMM_g0ycF",
        "colab_type": "code",
        "colab": {}
      },
      "source": [
        "threshold = 4\n",
        "\n",
        "data['class'] = (data['Rating'] >= threshold).astype(np.int)"
      ],
      "execution_count": 0,
      "outputs": []
    },
    {
      "cell_type": "code",
      "metadata": {
        "id": "F2UzkNrs1DHG",
        "colab_type": "code",
        "colab": {}
      },
      "source": [
        "data['class'].head()"
      ],
      "execution_count": 0,
      "outputs": []
    },
    {
      "cell_type": "code",
      "metadata": {
        "id": "39iUeETY1GzV",
        "colab_type": "code",
        "colab": {}
      },
      "source": [
        "data['class'].value_counts()"
      ],
      "execution_count": 0,
      "outputs": []
    },
    {
      "cell_type": "code",
      "metadata": {
        "id": "55gcfPpV1RG1",
        "colab_type": "code",
        "colab": {}
      },
      "source": [
        "data['class'].value_counts(normalize=True)"
      ],
      "execution_count": 0,
      "outputs": []
    },
    {
      "cell_type": "markdown",
      "metadata": {
        "id": "fUYj4G661gFL",
        "colab_type": "text"
      },
      "source": [
        "Since we can see above class with '1' is higher and dominating compared to class with '0' we would try different threshold to have more balanced data"
      ]
    },
    {
      "cell_type": "code",
      "metadata": {
        "id": "Dxrb1ldv1Vf8",
        "colab_type": "code",
        "colab": {}
      },
      "source": [
        "threshold = 4.1\n",
        "\n",
        "data['class'] = (data['Rating'] >= threshold).astype(np.int)\n",
        "data['class'].value_counts(normalize=True)"
      ],
      "execution_count": 0,
      "outputs": []
    },
    {
      "cell_type": "code",
      "metadata": {
        "id": "7G1v3F6010kU",
        "colab_type": "code",
        "colab": {}
      },
      "source": [
        "threshold = 4.2\n",
        "\n",
        "data['class'] = (data['Rating'] >= threshold).astype(np.int)\n",
        "data['class'].value_counts(normalize=True)"
      ],
      "execution_count": 0,
      "outputs": []
    },
    {
      "cell_type": "code",
      "metadata": {
        "id": "70I-F_g812l0",
        "colab_type": "code",
        "colab": {}
      },
      "source": [
        "threshold = 4.3\n",
        "\n",
        "data['class'] = (data['Rating'] >= threshold).astype(np.int)\n",
        "data['class'].value_counts(normalize=True)"
      ],
      "execution_count": 0,
      "outputs": []
    },
    {
      "cell_type": "markdown",
      "metadata": {
        "id": "SUk_ahpS15mt",
        "colab_type": "text"
      },
      "source": [
        "Looking above results for each threshold, threshold = 4.2 looks more balanced. So we'll take that as our threshold"
      ]
    },
    {
      "cell_type": "code",
      "metadata": {
        "id": "IqG_Fqjj14P0",
        "colab_type": "code",
        "colab": {}
      },
      "source": [
        "threshold = 4.2\n",
        "\n",
        "data['class'] = (data['Rating'] >= threshold).astype(np.int)\n",
        "data['class'].value_counts(normalize=True)"
      ],
      "execution_count": 0,
      "outputs": []
    },
    {
      "cell_type": "code",
      "metadata": {
        "id": "Lxu69xXE2EGm",
        "colab_type": "code",
        "colab": {}
      },
      "source": [
        "Y_binarised = data['class'].values"
      ],
      "execution_count": 0,
      "outputs": []
    },
    {
      "cell_type": "markdown",
      "metadata": {
        "id": "6Z6QiW_i2ZXI",
        "colab_type": "text"
      },
      "source": [
        "## Standardization"
      ]
    },
    {
      "cell_type": "markdown",
      "metadata": {
        "id": "TgU0rDa52r_q",
        "colab_type": "text"
      },
      "source": [
        "Data can be in different ranges. Say, consider PixelDensity which is in range of hundreds, while RAM is in range of digits (0-9). By Standardization, we want \n",
        "to achieve mean = 0 and StdDev = 1 for each feature. "
      ]
    },
    {
      "cell_type": "code",
      "metadata": {
        "id": "CwL2MVxx2Onu",
        "colab_type": "code",
        "colab": {}
      },
      "source": [
        "from sklearn.preprocessing import StandardScaler"
      ],
      "execution_count": 0,
      "outputs": []
    },
    {
      "cell_type": "markdown",
      "metadata": {
        "id": "vhQsa4Qc4dqh",
        "colab_type": "text"
      },
      "source": [
        "### Demo"
      ]
    },
    {
      "cell_type": "code",
      "metadata": {
        "id": "LXVYQE743HZD",
        "colab_type": "code",
        "colab": {}
      },
      "source": [
        "# Demo\n",
        "R = np.random.random([100, 1])\n",
        "R"
      ],
      "execution_count": 0,
      "outputs": []
    },
    {
      "cell_type": "code",
      "metadata": {
        "id": "T_Uaa7Q93XZ7",
        "colab_type": "code",
        "colab": {}
      },
      "source": [
        "plt.plot(R)\n",
        "plt.show()"
      ],
      "execution_count": 0,
      "outputs": []
    },
    {
      "cell_type": "code",
      "metadata": {
        "id": "elHXtYGY3bGj",
        "colab_type": "code",
        "colab": {}
      },
      "source": [
        "np.mean(R)"
      ],
      "execution_count": 0,
      "outputs": []
    },
    {
      "cell_type": "code",
      "metadata": {
        "id": "x1TGDaeV3dNL",
        "colab_type": "code",
        "colab": {}
      },
      "source": [
        "np.std(R)"
      ],
      "execution_count": 0,
      "outputs": []
    },
    {
      "cell_type": "code",
      "metadata": {
        "id": "zhhcUjHh3e1z",
        "colab_type": "code",
        "colab": {}
      },
      "source": [
        "# Standardize\n",
        "scaler = StandardScaler()"
      ],
      "execution_count": 0,
      "outputs": []
    },
    {
      "cell_type": "code",
      "metadata": {
        "id": "psaGtUV23nvC",
        "colab_type": "code",
        "colab": {}
      },
      "source": [
        "scaler.fit(R)"
      ],
      "execution_count": 0,
      "outputs": []
    },
    {
      "cell_type": "code",
      "metadata": {
        "id": "7itg_MS-3qYz",
        "colab_type": "code",
        "colab": {}
      },
      "source": [
        "scaler.mean_"
      ],
      "execution_count": 0,
      "outputs": []
    },
    {
      "cell_type": "code",
      "metadata": {
        "id": "E484T94Z3zey",
        "colab_type": "code",
        "colab": {}
      },
      "source": [
        "R_standardised = scaler.transform(R)"
      ],
      "execution_count": 0,
      "outputs": []
    },
    {
      "cell_type": "code",
      "metadata": {
        "id": "XQgzg8T537pT",
        "colab_type": "code",
        "colab": {}
      },
      "source": [
        "np.mean(R_standardised)"
      ],
      "execution_count": 0,
      "outputs": []
    },
    {
      "cell_type": "code",
      "metadata": {
        "id": "v9SWvYaL398z",
        "colab_type": "code",
        "colab": {}
      },
      "source": [
        "np.std(R_standardised)"
      ],
      "execution_count": 0,
      "outputs": []
    },
    {
      "cell_type": "code",
      "metadata": {
        "id": "QsJ0jaVN4Blj",
        "colab_type": "code",
        "colab": {}
      },
      "source": [
        "plt.plot(R_standardised)\n",
        "plt.show()"
      ],
      "execution_count": 0,
      "outputs": []
    },
    {
      "cell_type": "code",
      "metadata": {
        "id": "fA1xtMno4EhL",
        "colab_type": "code",
        "colab": {}
      },
      "source": [
        ""
      ],
      "execution_count": 0,
      "outputs": []
    },
    {
      "cell_type": "markdown",
      "metadata": {
        "id": "ykOa8kA64flv",
        "colab_type": "text"
      },
      "source": [
        "### Apply Standardization to our dataset"
      ]
    },
    {
      "cell_type": "code",
      "metadata": {
        "id": "BOM5UE_o4i7q",
        "colab_type": "code",
        "colab": {}
      },
      "source": [
        "from sklearn.model_selection import train_test_split"
      ],
      "execution_count": 0,
      "outputs": []
    },
    {
      "cell_type": "code",
      "metadata": {
        "id": "SgVaajBS4zoq",
        "colab_type": "code",
        "colab": {}
      },
      "source": [
        "X_train, X_test, Y_train, Y_test = train_test_split(X, Y, test_size=0.1, random_state = 0, stratify = Y_binarised)"
      ],
      "execution_count": 0,
      "outputs": []
    },
    {
      "cell_type": "code",
      "metadata": {
        "id": "hPdaskXG5Fh6",
        "colab_type": "code",
        "colab": {}
      },
      "source": [
        "print(X.shape, X_train.shape, X_test.shape)\n",
        "print(Y.shape, Y_train.shape, Y_test.shape)"
      ],
      "execution_count": 0,
      "outputs": []
    },
    {
      "cell_type": "code",
      "metadata": {
        "id": "DIpCY8uL5OIp",
        "colab_type": "code",
        "colab": {}
      },
      "source": [
        "scaler = StandardScaler()"
      ],
      "execution_count": 0,
      "outputs": []
    },
    {
      "cell_type": "code",
      "metadata": {
        "id": "MsB1OdtI5lui",
        "colab_type": "code",
        "colab": {}
      },
      "source": [
        "X_scaled_train = scaler.fit_transform(X_train)\n",
        "X_scaled_test = scaler.transform(X_test)"
      ],
      "execution_count": 0,
      "outputs": []
    },
    {
      "cell_type": "markdown",
      "metadata": {
        "id": "Gx6r4mF86OOc",
        "colab_type": "text"
      },
      "source": [
        "We don't want to standardize Y(target) similarly as for Features. We can use MinMaxScaler to get values between 0 and 1 so that we can fit our Sigmoid function"
      ]
    },
    {
      "cell_type": "code",
      "metadata": {
        "id": "5f1rmIIH54aH",
        "colab_type": "code",
        "colab": {}
      },
      "source": [
        "from sklearn.preprocessing import MinMaxScaler"
      ],
      "execution_count": 0,
      "outputs": []
    },
    {
      "cell_type": "code",
      "metadata": {
        "id": "rQtWuW0j6piY",
        "colab_type": "code",
        "colab": {}
      },
      "source": [
        "min_max_scaler = MinMaxScaler()"
      ],
      "execution_count": 0,
      "outputs": []
    },
    {
      "cell_type": "code",
      "metadata": {
        "id": "3Q2osYQH6uJ4",
        "colab_type": "code",
        "colab": {}
      },
      "source": [
        "Y_scaled_train = min_max_scaler.fit_transform(Y_train.reshape(-1,1)) #Because it is a single feature, we need to reshape to (-1, 1)"
      ],
      "execution_count": 0,
      "outputs": []
    },
    {
      "cell_type": "code",
      "metadata": {
        "id": "tBjMa66L6-OQ",
        "colab_type": "code",
        "colab": {}
      },
      "source": [
        "np.min(Y_scaled_train)"
      ],
      "execution_count": 0,
      "outputs": []
    },
    {
      "cell_type": "code",
      "metadata": {
        "id": "Tf7xdhjG7KwY",
        "colab_type": "code",
        "colab": {}
      },
      "source": [
        "np.max(Y_scaled_train)"
      ],
      "execution_count": 0,
      "outputs": []
    },
    {
      "cell_type": "code",
      "metadata": {
        "id": "J89eJ_G87MLw",
        "colab_type": "code",
        "colab": {}
      },
      "source": [
        "Y_scaled_test = min_max_scaler.transform(Y_test.reshape(-1,1))"
      ],
      "execution_count": 0,
      "outputs": []
    },
    {
      "cell_type": "code",
      "metadata": {
        "id": "a8MGe-jK7U3I",
        "colab_type": "code",
        "colab": {}
      },
      "source": [
        "scaled_threshold = (min_max_scaler.transform(np.array([threshold]).reshape(1, -1)))[0][0]"
      ],
      "execution_count": 0,
      "outputs": []
    },
    {
      "cell_type": "code",
      "metadata": {
        "id": "qd8pX2r-7zg4",
        "colab_type": "code",
        "colab": {}
      },
      "source": [
        "scaled_threshold"
      ],
      "execution_count": 0,
      "outputs": []
    },
    {
      "cell_type": "code",
      "metadata": {
        "id": "XcEyYazl70aY",
        "colab_type": "code",
        "colab": {}
      },
      "source": [
        "Y_binarised_train = (Y_scaled_train >= scaled_threshold).astype(np.int).ravel()\n",
        "Y_binarised_test = (Y_scaled_test < scaled_threshold).astype(np.int).ravel()"
      ],
      "execution_count": 0,
      "outputs": []
    },
    {
      "cell_type": "markdown",
      "metadata": {
        "id": "fJG5TSFlVcnr",
        "colab_type": "text"
      },
      "source": [
        "# Train on real data"
      ]
    },
    {
      "cell_type": "code",
      "metadata": {
        "id": "HXjg8nao8ONI",
        "colab_type": "code",
        "colab": {}
      },
      "source": [
        "sn = SigmoidNeuron()"
      ],
      "execution_count": 0,
      "outputs": []
    },
    {
      "cell_type": "code",
      "metadata": {
        "id": "XdblapNqVg2W",
        "colab_type": "code",
        "colab": {}
      },
      "source": [
        "sn.fit(X_scaled_train, Y_scaled_train, epochs=1100, lr=0.01, display_loss=True)"
      ],
      "execution_count": 0,
      "outputs": []
    },
    {
      "cell_type": "code",
      "metadata": {
        "id": "Eh9QBbnXZ5_3",
        "colab_type": "code",
        "colab": {}
      },
      "source": [
        "sn.fit(X_scaled_train, Y_scaled_train, epochs=2000, lr=0.015, display_loss=True)"
      ],
      "execution_count": 0,
      "outputs": []
    },
    {
      "cell_type": "code",
      "metadata": {
        "id": "N-g3eMAXWEbu",
        "colab_type": "code",
        "colab": {}
      },
      "source": [
        "Y_pred_train = sn.predict(X_scaled_train)\n",
        "Y_pred_test = sn.predict(X_scaled_test)"
      ],
      "execution_count": 0,
      "outputs": []
    },
    {
      "cell_type": "code",
      "metadata": {
        "id": "Vem-qJvOWMjl",
        "colab_type": "code",
        "colab": {}
      },
      "source": [
        "Y_pred_binarised_train = (Y_pred_train > scaled_threshold).astype(np.int).ravel()\n",
        "Y_pred_binarised_test = (Y_pred_test > scaled_threshold).astype(np.int).ravel()"
      ],
      "execution_count": 0,
      "outputs": []
    },
    {
      "cell_type": "code",
      "metadata": {
        "id": "M66uYDs1WcMM",
        "colab_type": "code",
        "colab": {}
      },
      "source": [
        "from sklearn.metrics import accuracy_score"
      ],
      "execution_count": 0,
      "outputs": []
    },
    {
      "cell_type": "code",
      "metadata": {
        "id": "zKbei4ccWsVs",
        "colab_type": "code",
        "colab": {}
      },
      "source": [
        "acc_train = accuracy_score(Y_pred_binarised_train, Y_binarised_train)\n",
        "acc_test = accuracy_score(Y_pred_binarised_test, Y_binarised_test)\n",
        "\n",
        "print(acc_train, acc_test)"
      ],
      "execution_count": 0,
      "outputs": []
    },
    {
      "cell_type": "code",
      "metadata": {
        "id": "mZhbfkwCW4Es",
        "colab_type": "code",
        "colab": {}
      },
      "source": [
        ""
      ],
      "execution_count": 0,
      "outputs": []
    }
  ]
}