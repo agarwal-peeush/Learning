{
 "cells": [
  {
   "cell_type": "code",
   "execution_count": 2,
   "metadata": {},
   "outputs": [],
   "source": [
    "price = 12.5\n",
    "bag = 100\n",
    "isHuman = True"
   ]
  },
  {
   "cell_type": "code",
   "execution_count": 3,
   "metadata": {},
   "outputs": [
    {
     "name": "stdout",
     "output_type": "stream",
     "text": [
      "12.5\n",
      "100\n",
      "True\n"
     ]
    }
   ],
   "source": [
    "print(price)\n",
    "print(bag)\n",
    "print(isHuman)"
   ]
  },
  {
   "cell_type": "code",
   "execution_count": 5,
   "metadata": {},
   "outputs": [
    {
     "name": "stdout",
     "output_type": "stream",
     "text": [
      "<class 'float'>\n",
      "<class 'int'>\n",
      "<class 'bool'>\n"
     ]
    }
   ],
   "source": [
    "print(type(price))\n",
    "print(type(bag))\n",
    "print(type(isHuman))"
   ]
  },
  {
   "cell_type": "code",
   "execution_count": 8,
   "metadata": {},
   "outputs": [
    {
     "name": "stdout",
     "output_type": "stream",
     "text": [
      "Enter your name\n",
      "Peeush\n",
      "Hello Peeush\n"
     ]
    }
   ],
   "source": [
    "# Get input from user\n",
    "name = input(\"Enter your name\\n\")\n",
    "print('Hello ' + name)"
   ]
  },
  {
   "cell_type": "code",
   "execution_count": 13,
   "metadata": {},
   "outputs": [
    {
     "name": "stdout",
     "output_type": "stream",
     "text": [
      "Enter first number\n",
      "100\n",
      "Enter second number\n",
      "12\n",
      "<class 'str'>\n",
      "<class 'str'>\n",
      "10012\n",
      "<class 'int'>\n",
      "<class 'int'>\n",
      "112\n"
     ]
    }
   ],
   "source": [
    "# Now let's do some math\n",
    "num1 = input(\"Enter first number\\n\") # Whatever we input is treated as character/string\n",
    "num2 = input(\"Enter second number\\n\")\n",
    "\n",
    "print(type(num1))\n",
    "print(type(num2))\n",
    "\n",
    "print(num1 + num2) # concatenated\n",
    "\n",
    "num1 = int(num1)\n",
    "num2 = int(num2)\n",
    "\n",
    "print(type(num1))\n",
    "print(type(num2))\n",
    "\n",
    "print (num1 + num2) # added"
   ]
  },
  {
   "cell_type": "code",
   "execution_count": null,
   "metadata": {},
   "outputs": [],
   "source": []
  }
 ],
 "metadata": {
  "jupytext": {
   "main_language": "python"
  },
  "kernelspec": {
   "display_name": "Python 3",
   "language": "python",
   "name": "python3"
  },
  "language_info": {
   "codemirror_mode": {
    "name": "ipython",
    "version": 3
   },
   "file_extension": ".py",
   "mimetype": "text/x-python",
   "name": "python",
   "nbconvert_exporter": "python",
   "pygments_lexer": "ipython3",
   "version": "3.7.1"
  }
 },
 "nbformat": 4,
 "nbformat_minor": 2
}
