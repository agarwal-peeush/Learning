{
  "nbformat": 4,
  "nbformat_minor": 0,
  "metadata": {
    "colab": {
      "name": "SigmoidNeuron.ipynb",
      "version": "0.3.2",
      "provenance": [],
      "private_outputs": true,
      "include_colab_link": true
    },
    "kernelspec": {
      "name": "python3",
      "display_name": "Python 3"
    }
  },
  "cells": [
    {
      "cell_type": "markdown",
      "metadata": {
        "id": "view-in-github",
        "colab_type": "text"
      },
      "source": [
        "<a href=\"https://colab.research.google.com/github/agarwal-peeush/Learning/blob/PadhAI_learning/Learning-Python/padhAI/SigmoidNeuron/SigmoidNeuron.ipynb\" target=\"_parent\"><img src=\"https://colab.research.google.com/assets/colab-badge.svg\" alt=\"Open In Colab\"/></a>"
      ]
    },
    {
      "cell_type": "markdown",
      "metadata": {
        "id": "czMJsvXKVCZP",
        "colab_type": "text"
      },
      "source": [
        "# Plotting Sigmoid Function"
      ]
    },
    {
      "cell_type": "code",
      "metadata": {
        "id": "bsvydDTCU9UP",
        "colab_type": "code",
        "colab": {}
      },
      "source": [
        "import numpy as np\n",
        "import matplotlib.pyplot as plt"
      ],
      "execution_count": 0,
      "outputs": []
    },
    {
      "cell_type": "markdown",
      "metadata": {
        "id": "TBGxdf0gYkqQ",
        "colab_type": "text"
      },
      "source": [
        "## 1-D Sigmoid Function"
      ]
    },
    {
      "cell_type": "markdown",
      "metadata": {
        "id": "Mrton-LjVMBx",
        "colab_type": "text"
      },
      "source": [
        "Sigmoid Function: $S_{w,b}(x) = \\frac{1}{1+e^{-(wx+b)}}$"
      ]
    },
    {
      "cell_type": "code",
      "metadata": {
        "id": "3rxsqw2lVKox",
        "colab_type": "code",
        "colab": {}
      },
      "source": [
        "def sigmoid(x, w, b):\n",
        "  return 1 / (1 + np.exp(-(w*x + b)))"
      ],
      "execution_count": 0,
      "outputs": []
    },
    {
      "cell_type": "code",
      "metadata": {
        "id": "Rr9WnmBKVyMZ",
        "colab_type": "code",
        "colab": {}
      },
      "source": [
        "sigmoid(1, 0.5, 0)"
      ],
      "execution_count": 0,
      "outputs": []
    },
    {
      "cell_type": "code",
      "metadata": {
        "id": "JD-imtCdV0Yo",
        "colab_type": "code",
        "colab": {}
      },
      "source": [
        "w = 0.9\n",
        "b = 0.1\n",
        "X = np.linspace(-10, 10, 100)\n",
        "Y = sigmoid(X, w, b)"
      ],
      "execution_count": 0,
      "outputs": []
    },
    {
      "cell_type": "code",
      "metadata": {
        "id": "VbS5CptbV40B",
        "colab_type": "code",
        "colab": {}
      },
      "source": [
        "type(X)"
      ],
      "execution_count": 0,
      "outputs": []
    },
    {
      "cell_type": "code",
      "metadata": {
        "id": "iojFEzfCWJPC",
        "colab_type": "code",
        "colab": {}
      },
      "source": [
        "type(Y)"
      ],
      "execution_count": 0,
      "outputs": []
    },
    {
      "cell_type": "code",
      "metadata": {
        "id": "UV32qiZAWKww",
        "colab_type": "code",
        "colab": {}
      },
      "source": [
        "# Plot sigmoid function\n",
        "plt.plot(X,Y)\n",
        "plt.show()"
      ],
      "execution_count": 0,
      "outputs": []
    },
    {
      "cell_type": "code",
      "metadata": {
        "id": "kYuSuaQaWUpY",
        "colab_type": "code",
        "colab": {}
      },
      "source": [
        "# Flip of sigmoid on change of sign in w\n",
        "w = -0.9 #Previous 0.9\n",
        "b = 0.1\n",
        "X = np.linspace(-10, 10, 100)\n",
        "Y = sigmoid(X, w, b)\n",
        "\n",
        "# Plot sigmoid function\n",
        "plt.plot(X,Y)\n",
        "plt.show()"
      ],
      "execution_count": 0,
      "outputs": []
    },
    {
      "cell_type": "code",
      "metadata": {
        "id": "6QYnaEOeWfWh",
        "colab_type": "code",
        "colab": {}
      },
      "source": [
        "# moving to right on decrease in b\n",
        "w = 0.9\n",
        "b = -5 #Previous 0.1\n",
        "X = np.linspace(-10, 10, 100)\n",
        "Y = sigmoid(X, w, b)\n",
        "\n",
        "# Plot sigmoid function\n",
        "plt.plot(X,Y)\n",
        "plt.show()"
      ],
      "execution_count": 0,
      "outputs": []
    },
    {
      "cell_type": "code",
      "metadata": {
        "id": "2nK3MJogXP42",
        "colab_type": "code",
        "colab": {}
      },
      "source": [
        "w = 1 #@param {type: \"slider\", min: -2, max: 2, step:0.1}\n",
        "b = 1.9 #@param {type: \"slider\", min: -2, max: 2, step:0.1}\n",
        "X = np.linspace(-10, 10, 100)\n",
        "Y = sigmoid(X, w, b)\n",
        "\n",
        "# Plot sigmoid function\n",
        "plt.plot(X,Y)\n",
        "plt.show()"
      ],
      "execution_count": 0,
      "outputs": []
    },
    {
      "cell_type": "code",
      "metadata": {
        "id": "41OeKDFRW1pI",
        "colab_type": "code",
        "colab": {}
      },
      "source": [
        ""
      ],
      "execution_count": 0,
      "outputs": []
    },
    {
      "cell_type": "markdown",
      "metadata": {
        "id": "owTZxmk5Yo_3",
        "colab_type": "text"
      },
      "source": [
        "## 2-D Sigmoid Function"
      ]
    },
    {
      "cell_type": "markdown",
      "metadata": {
        "id": "KxP0KuB1YvNJ",
        "colab_type": "text"
      },
      "source": [
        "Sigmoid function: $S_{w_1,w_2,b}({x_1,x_2}) = \\frac{1}{1+e^{-(w_1 x_1 + w_2 x_2 + b)}}$"
      ]
    },
    {
      "cell_type": "code",
      "metadata": {
        "id": "HYoM2anQYt6D",
        "colab_type": "code",
        "colab": {}
      },
      "source": [
        "def sigmoid_2d(x1, x2, w1, w2, b):\n",
        "  return 1/(1+np.exp(-(w1*x1 + w2*x2 + b)))"
      ],
      "execution_count": 0,
      "outputs": []
    },
    {
      "cell_type": "code",
      "metadata": {
        "id": "76vDXF1mZ6qv",
        "colab_type": "code",
        "colab": {}
      },
      "source": [
        "sigmoid_2d(1, 0, 0.5, 0, 0)"
      ],
      "execution_count": 0,
      "outputs": []
    },
    {
      "cell_type": "code",
      "metadata": {
        "id": "NfT-CtsFaGLl",
        "colab_type": "code",
        "colab": {}
      },
      "source": [
        "# To plot 3-d \n",
        "from mpl_toolkits import mplot3d"
      ],
      "execution_count": 0,
      "outputs": []
    },
    {
      "cell_type": "code",
      "metadata": {
        "id": "8PvF8Jveapv_",
        "colab_type": "code",
        "colab": {}
      },
      "source": [
        "X1 = np.linspace(-10, 10, 100)\n",
        "X2 = np.linspace(-10, 10, 100)\n",
        "\n",
        "XX1, XX2 = np.meshgrid(X1, X2)"
      ],
      "execution_count": 0,
      "outputs": []
    },
    {
      "cell_type": "code",
      "metadata": {
        "id": "zUHpjHKwa7QG",
        "colab_type": "code",
        "colab": {}
      },
      "source": [
        "print(X1.shape, X2.shape, XX1.shape, XX2.shape)"
      ],
      "execution_count": 0,
      "outputs": []
    },
    {
      "cell_type": "code",
      "metadata": {
        "id": "cOxAV3_wbAU_",
        "colab_type": "code",
        "colab": {}
      },
      "source": [
        "w1 = 0.5\n",
        "w2 = 0.5\n",
        "b = 0\n",
        "Y = sigmoid_2d(XX1, XX2, w1, w2, b)"
      ],
      "execution_count": 0,
      "outputs": []
    },
    {
      "cell_type": "code",
      "metadata": {
        "id": "p-kGHqOTirBy",
        "colab_type": "code",
        "colab": {}
      },
      "source": [
        "import matplotlib.colors\n",
        "\n",
        "mycmap = matplotlib.colors.LinearSegmentedColormap.from_list(\"\", [\"red\", \"yellow\", \"green\"])"
      ],
      "execution_count": 0,
      "outputs": []
    },
    {
      "cell_type": "code",
      "metadata": {
        "id": "PzVBKep_iCka",
        "colab_type": "code",
        "colab": {}
      },
      "source": [
        "plt.contourf(XX1, XX2, Y, cmap=mycmap, alpha=0.6)\n",
        "plt.show()"
      ],
      "execution_count": 0,
      "outputs": []
    },
    {
      "cell_type": "code",
      "metadata": {
        "id": "6Haqmpp5bTvf",
        "colab_type": "code",
        "colab": {}
      },
      "source": [
        "fig = plt.figure()\n",
        "ax = plt.axes(projection='3d')\n",
        "ax.plot_surface(XX1, XX2, Y, cmap='viridis')\n",
        "ax.set_xlabel('x1')\n",
        "ax.set_ylabel('x2')\n",
        "ax.set_zlabel('y')\n",
        "\n",
        "ax.view_init(30, 270)"
      ],
      "execution_count": 0,
      "outputs": []
    },
    {
      "cell_type": "code",
      "metadata": {
        "id": "SfxwWnnzbgDn",
        "colab_type": "code",
        "colab": {}
      },
      "source": [
        "w1 = 0.5\n",
        "w2 = 2\n",
        "b = 0\n",
        "Y = sigmoid_2d(XX1, XX2, w1, w2, b)\n",
        "\n",
        "fig = plt.figure()\n",
        "ax = plt.axes(projection='3d')\n",
        "ax.plot_surface(XX1, XX2, Y, cmap='viridis')\n",
        "ax.set_xlabel('x1')\n",
        "ax.set_ylabel('x2')\n",
        "ax.set_zlabel('y')\n",
        "\n",
        "ax.view_init(30, 180)"
      ],
      "execution_count": 0,
      "outputs": []
    },
    {
      "cell_type": "code",
      "metadata": {
        "id": "g6LcWHfqc_Se",
        "colab_type": "code",
        "colab": {}
      },
      "source": [
        "w1 = 0.5\n",
        "w2 = 0.5\n",
        "b = 1\n",
        "Y = sigmoid_2d(XX1, XX2, w1, w2, b)\n",
        "\n",
        "fig = plt.figure()\n",
        "ax = plt.axes(projection='3d')\n",
        "ax.plot_surface(XX1, XX2, Y, cmap='viridis')\n",
        "ax.set_xlabel('x1')\n",
        "ax.set_ylabel('x2')\n",
        "ax.set_zlabel('y')\n",
        "\n",
        "ax.view_init(30, 180)"
      ],
      "execution_count": 0,
      "outputs": []
    },
    {
      "cell_type": "markdown",
      "metadata": {
        "id": "fr9cQpOtdYa4",
        "colab_type": "text"
      },
      "source": [
        "## Compute loss for a given dataset"
      ]
    },
    {
      "cell_type": "code",
      "metadata": {
        "id": "2EP68Qb_dbsW",
        "colab_type": "code",
        "colab": {}
      },
      "source": [
        "w_unknown = 0.5\n",
        "b_unknown = 0.25\n",
        "\n",
        "X = np.random.random(25) * 20 - 10\n",
        "Y = sigmoid(X, w_unknown, b_unknown)"
      ],
      "execution_count": 0,
      "outputs": []
    },
    {
      "cell_type": "code",
      "metadata": {
        "id": "XiZ3Ohyed9m1",
        "colab_type": "code",
        "colab": {}
      },
      "source": [
        "plt.plot(X, Y, '*')\n",
        "plt.show()"
      ],
      "execution_count": 0,
      "outputs": []
    },
    {
      "cell_type": "code",
      "metadata": {
        "id": "ZZWbwkQIe1Ph",
        "colab_type": "code",
        "colab": {}
      },
      "source": [
        "def calculate_loss(X, Y, w_est, b_est):\n",
        "  loss = 0\n",
        "  for x, y in zip(X, Y):\n",
        "    y_hat = sigmoid(x, w_est, b_est)\n",
        "    loss += (y - y_hat) **2\n",
        "  return loss"
      ],
      "execution_count": 0,
      "outputs": []
    },
    {
      "cell_type": "code",
      "metadata": {
        "id": "Iiraa1uNeAI9",
        "colab_type": "code",
        "colab": {}
      },
      "source": [
        "W = np.linspace(0, 1, 100)\n",
        "B = np.linspace(-1, 1, 100)\n",
        "\n",
        "WW, BB = np.meshgrid(W, B)\n",
        "\n",
        "Loss = np.zeros(WW.shape)"
      ],
      "execution_count": 0,
      "outputs": []
    },
    {
      "cell_type": "code",
      "metadata": {
        "id": "SUmHda7mfRHJ",
        "colab_type": "code",
        "colab": {}
      },
      "source": [
        "for i in range(WW.shape[0]):\n",
        "  for j in range(WW.shape[1]):\n",
        "    Loss[i,j] = calculate_loss(X, Y, WW[i, j], BB[i, j])"
      ],
      "execution_count": 0,
      "outputs": []
    },
    {
      "cell_type": "code",
      "metadata": {
        "id": "Pd05KesZfTJl",
        "colab_type": "code",
        "colab": {}
      },
      "source": [
        "fig = plt.figure()\n",
        "ax = plt.axes(projection='3d')\n",
        "ax.plot_surface(WW, BB, Loss, cmap='viridis')\n",
        "ax.set_xlabel('w')\n",
        "ax.set_ylabel('b')\n",
        "ax.set_zlabel('loss')\n",
        "\n",
        "#ax.view_init(30, 180)"
      ],
      "execution_count": 0,
      "outputs": []
    },
    {
      "cell_type": "code",
      "metadata": {
        "id": "bR49TcR2fiIE",
        "colab_type": "code",
        "colab": {}
      },
      "source": [
        "ij = np.argmin(Loss)\n",
        "i = int(np.floor(ij/Loss.shape[1]))\n",
        "j = int( ij - i * Loss.shape[1])\n",
        "print(i, j)"
      ],
      "execution_count": 0,
      "outputs": []
    },
    {
      "cell_type": "code",
      "metadata": {
        "id": "Dla7wW2ygSkf",
        "colab_type": "code",
        "colab": {}
      },
      "source": [
        "print(Loss[i, j], WW[i, j], BB[i, j])"
      ],
      "execution_count": 0,
      "outputs": []
    },
    {
      "cell_type": "code",
      "metadata": {
        "id": "mRsKtX6tgvLU",
        "colab_type": "code",
        "colab": {}
      },
      "source": [
        ""
      ],
      "execution_count": 0,
      "outputs": []
    }
  ]
}