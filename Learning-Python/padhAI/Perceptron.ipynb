{
  "nbformat": 4,
  "nbformat_minor": 0,
  "metadata": {
    "colab": {
      "name": "Perceptron.ipynb",
      "version": "0.3.2",
      "provenance": [],
      "private_outputs": true,
      "include_colab_link": true
    },
    "kernelspec": {
      "name": "python3",
      "display_name": "Python 3"
    }
  },
  "cells": [
    {
      "cell_type": "markdown",
      "metadata": {
        "id": "view-in-github",
        "colab_type": "text"
      },
      "source": [
        "<a href=\"https://colab.research.google.com/github/agarwal-peeush/Learning/blob/PadhAI_learning/Learning-Python/padhAI/Perceptron.ipynb\" target=\"_parent\"><img src=\"https://colab.research.google.com/assets/colab-badge.svg\" alt=\"Open In Colab\"/></a>"
      ]
    },
    {
      "cell_type": "markdown",
      "metadata": {
        "id": "zEgrzm7eoFc8",
        "colab_type": "text"
      },
      "source": [
        "#Load dataset"
      ]
    },
    {
      "cell_type": "code",
      "metadata": {
        "id": "L01Knz1ToIxJ",
        "colab_type": "code",
        "colab": {}
      },
      "source": [
        "import sklearn.datasets"
      ],
      "execution_count": 0,
      "outputs": []
    },
    {
      "cell_type": "code",
      "metadata": {
        "id": "SDya1e53oYRb",
        "colab_type": "code",
        "colab": {}
      },
      "source": [
        "breast_cancer = sklearn.datasets.load_breast_cancer()"
      ],
      "execution_count": 0,
      "outputs": []
    },
    {
      "cell_type": "code",
      "metadata": {
        "id": "XC-nSEsaoY3S",
        "colab_type": "code",
        "colab": {}
      },
      "source": [
        "X = breast_cancer.data\n",
        "Y = breast_cancer.target"
      ],
      "execution_count": 0,
      "outputs": []
    },
    {
      "cell_type": "code",
      "metadata": {
        "id": "MQqS6z6JolWU",
        "colab_type": "code",
        "colab": {}
      },
      "source": [
        "import pandas as pd"
      ],
      "execution_count": 0,
      "outputs": []
    },
    {
      "cell_type": "code",
      "metadata": {
        "id": "dO_obtpLoriH",
        "colab_type": "code",
        "colab": {}
      },
      "source": [
        "data = pd.DataFrame(X, columns=breast_cancer.feature_names)\n",
        "data['class'] = Y"
      ],
      "execution_count": 0,
      "outputs": []
    },
    {
      "cell_type": "code",
      "metadata": {
        "id": "6RtpW4hoosfK",
        "colab_type": "code",
        "colab": {}
      },
      "source": [
        "data.shape"
      ],
      "execution_count": 0,
      "outputs": []
    },
    {
      "cell_type": "code",
      "metadata": {
        "id": "dAXoNdAVo_67",
        "colab_type": "code",
        "colab": {}
      },
      "source": [
        "data.head()"
      ],
      "execution_count": 0,
      "outputs": []
    },
    {
      "cell_type": "code",
      "metadata": {
        "id": "Qn8WBRu-pCXn",
        "colab_type": "code",
        "colab": {}
      },
      "source": [
        "data.describe()"
      ],
      "execution_count": 0,
      "outputs": []
    },
    {
      "cell_type": "code",
      "metadata": {
        "id": "Z4AfQgaopFQc",
        "colab_type": "code",
        "colab": {}
      },
      "source": [
        "from sklearn.model_selection import train_test_split"
      ],
      "execution_count": 0,
      "outputs": []
    },
    {
      "cell_type": "code",
      "metadata": {
        "id": "wNB4w4RQpM-z",
        "colab_type": "code",
        "colab": {}
      },
      "source": [
        "X = data.drop('class', axis=1)"
      ],
      "execution_count": 0,
      "outputs": []
    },
    {
      "cell_type": "code",
      "metadata": {
        "id": "erMgjDuXpU3c",
        "colab_type": "code",
        "colab": {}
      },
      "source": [
        "Y = data['class']"
      ],
      "execution_count": 0,
      "outputs": []
    },
    {
      "cell_type": "code",
      "metadata": {
        "id": "r1p97-FVpXee",
        "colab_type": "code",
        "colab": {}
      },
      "source": [
        "X_train, X_test, Y_train, Y_test = train_test_split(X, Y, test_size=0.1, stratify=Y, random_state=1)\n",
        "\n",
        "print(X.shape, X_train.shape, X_test.shape)\n",
        "print(Y.shape, Y_train.shape, Y_test.shape)"
      ],
      "execution_count": 0,
      "outputs": []
    },
    {
      "cell_type": "code",
      "metadata": {
        "id": "C4YE9FylqVBE",
        "colab_type": "code",
        "colab": {}
      },
      "source": [
        "X_train = X_train.values\n",
        "X_test = X_test.values"
      ],
      "execution_count": 0,
      "outputs": []
    },
    {
      "cell_type": "markdown",
      "metadata": {
        "id": "Iq3o7TlClFhC",
        "colab_type": "text"
      },
      "source": [
        "#Perceptron Model:\n",
        "\n",
        "$y = 1, \\mbox{if} \\sum_i w_i x_i >= b$\n",
        "\n",
        "$y = 0, \\mbox{otherwise}$"
      ]
    },
    {
      "cell_type": "code",
      "metadata": {
        "id": "nvfPmmNZqFPY",
        "colab_type": "code",
        "colab": {}
      },
      "source": [
        "import numpy as np\n",
        "import matplotlib.pyplot as plt\n",
        "from sklearn.metrics import accuracy_score"
      ],
      "execution_count": 0,
      "outputs": []
    },
    {
      "cell_type": "code",
      "metadata": {
        "id": "J8y5hkLClB6D",
        "colab_type": "code",
        "colab": {}
      },
      "source": [
        "class Perceptron:\n",
        "  def __init__(self):\n",
        "    self.w = None\n",
        "    self.b = None\n",
        "\n",
        "  def model(self, x):\n",
        "    return 1 if np.dot(self.w, x) >= self.b else 0\n",
        "\n",
        "  def predict(self, X):\n",
        "    Y = []\n",
        "    for x in X:\n",
        "      result = self.model(x)\n",
        "      Y.append(result)\n",
        "    \n",
        "    return np.array(Y)\n",
        "\n",
        "  def fit(self, X, Y, epochs = 1, lr = 1):\n",
        "    self.w = np.ones(X.shape[1])\n",
        "    self.b = 0\n",
        "\n",
        "    accuracy = {}\n",
        "    max_accuracy = 0\n",
        "\n",
        "    for i in range(epochs):\n",
        "      for x,y in zip(X, Y):\n",
        "        y_pred = self.model(x)\n",
        "        if y == 1 and y_pred == 0:\n",
        "          self.w = self.w + lr * x\n",
        "          self.b = self.b + lr * 1\n",
        "        elif y == 0 and y_pred == 1:\n",
        "          self.w = self.w - lr * x\n",
        "          self.b = self.b - lr * 1\n",
        "      \n",
        "      accuracy[i] = accuracy_score(self.predict(X), Y)\n",
        "      if(accuracy[i] > max_accuracy):\n",
        "        max_accuracy = accuracy[i]\n",
        "        chkptw = self.w\n",
        "        chkptb = self.b\n",
        "\n",
        "    self.w = chkptw\n",
        "    self.b = chkptb\n",
        "\n",
        "    print(max_accuracy)\n",
        "\n",
        "    plt.plot(accuracy.values())\n",
        "    plt.ylim([0,1])\n",
        "    plt.show()\n"
      ],
      "execution_count": 0,
      "outputs": []
    },
    {
      "cell_type": "code",
      "metadata": {
        "id": "3Rji2SfRw-lJ",
        "colab_type": "code",
        "colab": {}
      },
      "source": [
        "perceptron = Perceptron()"
      ],
      "execution_count": 0,
      "outputs": []
    },
    {
      "cell_type": "markdown",
      "metadata": {
        "id": "XalIPQA9xC7I",
        "colab_type": "text"
      },
      "source": [
        "###Epochs=1"
      ]
    },
    {
      "cell_type": "code",
      "metadata": {
        "id": "zv1i6Y2hxE8I",
        "colab_type": "code",
        "colab": {}
      },
      "source": [
        "perceptron.fit(X_train, Y_train)"
      ],
      "execution_count": 0,
      "outputs": []
    },
    {
      "cell_type": "code",
      "metadata": {
        "id": "owrbJ30sxLH4",
        "colab_type": "code",
        "colab": {}
      },
      "source": [
        "Y_pred_test = perceptron.predict(X_test)\n",
        "print(accuracy_score(Y_test, Y_pred_test))"
      ],
      "execution_count": 0,
      "outputs": []
    },
    {
      "cell_type": "markdown",
      "metadata": {
        "id": "04FWpBA7tw8v",
        "colab_type": "text"
      },
      "source": [
        "###Epochs=2"
      ]
    },
    {
      "cell_type": "code",
      "metadata": {
        "id": "xuX4L3Rmn6Pn",
        "colab_type": "code",
        "colab": {}
      },
      "source": [
        "perceptron.fit(X_train, Y_train, 2)"
      ],
      "execution_count": 0,
      "outputs": []
    },
    {
      "cell_type": "code",
      "metadata": {
        "id": "etYczEbwrDxO",
        "colab_type": "code",
        "colab": {}
      },
      "source": [
        "Y_pred_test = perceptron.predict(X_test)\n",
        "print(accuracy_score(Y_test, Y_pred_test))"
      ],
      "execution_count": 0,
      "outputs": []
    },
    {
      "cell_type": "markdown",
      "metadata": {
        "id": "ZsYvg-79uAqE",
        "colab_type": "text"
      },
      "source": [
        "###Epochs=5"
      ]
    },
    {
      "cell_type": "code",
      "metadata": {
        "colab_type": "code",
        "id": "zJln4KZIuAwy",
        "colab": {}
      },
      "source": [
        "perceptron.fit(X_train, Y_train, 5)"
      ],
      "execution_count": 0,
      "outputs": []
    },
    {
      "cell_type": "code",
      "metadata": {
        "colab_type": "code",
        "id": "11mTf8ORuAw0",
        "colab": {}
      },
      "source": [
        "Y_pred_test = perceptron.predict(X_test)\n",
        "print(accuracy_score(Y_test, Y_pred_test))"
      ],
      "execution_count": 0,
      "outputs": []
    },
    {
      "cell_type": "markdown",
      "metadata": {
        "id": "xLmGpMXHuJaE",
        "colab_type": "text"
      },
      "source": [
        "###Epochs=10"
      ]
    },
    {
      "cell_type": "code",
      "metadata": {
        "colab_type": "code",
        "id": "k2ZgUIw_t83S",
        "colab": {}
      },
      "source": [
        "perceptron.fit(X_train, Y_train, 10)"
      ],
      "execution_count": 0,
      "outputs": []
    },
    {
      "cell_type": "code",
      "metadata": {
        "colab_type": "code",
        "id": "lzmeOrUEt83V",
        "colab": {}
      },
      "source": [
        "Y_pred_test = perceptron.predict(X_test)\n",
        "print(accuracy_score(Y_test, Y_pred_test))"
      ],
      "execution_count": 0,
      "outputs": []
    },
    {
      "cell_type": "markdown",
      "metadata": {
        "id": "ftW66Qqxu_2K",
        "colab_type": "text"
      },
      "source": [
        "###Epochs=20"
      ]
    },
    {
      "cell_type": "code",
      "metadata": {
        "id": "q6Qc1msSu9vh",
        "colab_type": "code",
        "colab": {}
      },
      "source": [
        "perceptron.fit(X_train, Y_train, 20)"
      ],
      "execution_count": 0,
      "outputs": []
    },
    {
      "cell_type": "code",
      "metadata": {
        "id": "hZtykU4HvFSS",
        "colab_type": "code",
        "colab": {}
      },
      "source": [
        "Y_pred_test = perceptron.predict(X_test)\n",
        "print(accuracy_score(Y_test, Y_pred_test))"
      ],
      "execution_count": 0,
      "outputs": []
    },
    {
      "cell_type": "markdown",
      "metadata": {
        "id": "LGRd5zjlvJCy",
        "colab_type": "text"
      },
      "source": [
        "###Epochs=50"
      ]
    },
    {
      "cell_type": "code",
      "metadata": {
        "id": "GaMGQEAvvLpU",
        "colab_type": "code",
        "colab": {}
      },
      "source": [
        "perceptron.fit(X_train, Y_train, 50)"
      ],
      "execution_count": 0,
      "outputs": []
    },
    {
      "cell_type": "code",
      "metadata": {
        "id": "spETsSkEvGXi",
        "colab_type": "code",
        "colab": {}
      },
      "source": [
        "Y_pred_test = perceptron.predict(X_test)\n",
        "print(accuracy_score(Y_test, Y_pred_test))"
      ],
      "execution_count": 0,
      "outputs": []
    },
    {
      "cell_type": "markdown",
      "metadata": {
        "id": "iVmFMIZHwfkd",
        "colab_type": "text"
      },
      "source": [
        "###Epochs=100"
      ]
    },
    {
      "cell_type": "code",
      "metadata": {
        "id": "tYhUWfUEvONR",
        "colab_type": "code",
        "colab": {}
      },
      "source": [
        "perceptron.fit(X_train, Y_train, 100)"
      ],
      "execution_count": 0,
      "outputs": []
    },
    {
      "cell_type": "code",
      "metadata": {
        "id": "uhoT2dRbwkFe",
        "colab_type": "code",
        "colab": {}
      },
      "source": [
        "Y_pred_test = perceptron.predict(X_test)\n",
        "print(accuracy_score(Y_test, Y_pred_test))"
      ],
      "execution_count": 0,
      "outputs": []
    },
    {
      "cell_type": "markdown",
      "metadata": {
        "id": "OGEwfvhOyd0H",
        "colab_type": "text"
      },
      "source": [
        "### Epochs=100 and Learning rate = .0001"
      ]
    },
    {
      "cell_type": "code",
      "metadata": {
        "id": "v6DhXdYpyhrx",
        "colab_type": "code",
        "colab": {}
      },
      "source": [
        "perceptron.fit(X_train, Y_train, 100, 0.0001)"
      ],
      "execution_count": 0,
      "outputs": []
    },
    {
      "cell_type": "code",
      "metadata": {
        "id": "5M-hm4XaymrJ",
        "colab_type": "code",
        "colab": {}
      },
      "source": [
        "Y_pred_test = perceptron.predict(X_test)\n",
        "print(accuracy_score(Y_test, Y_pred_test))"
      ],
      "execution_count": 0,
      "outputs": []
    },
    {
      "cell_type": "markdown",
      "metadata": {
        "id": "L8CrfXcOzCn6",
        "colab_type": "text"
      },
      "source": [
        "###Epochs=1000 and Learning rate=0.001"
      ]
    },
    {
      "cell_type": "code",
      "metadata": {
        "id": "DKQ0BYFqypyC",
        "colab_type": "code",
        "colab": {}
      },
      "source": [
        "perceptron.fit(X_train, Y_train, 1000, 0.001)"
      ],
      "execution_count": 0,
      "outputs": []
    },
    {
      "cell_type": "code",
      "metadata": {
        "id": "Q9Uyh3pUzIYy",
        "colab_type": "code",
        "colab": {}
      },
      "source": [
        "Y_pred_test = perceptron.predict(X_test)\n",
        "print(accuracy_score(Y_test, Y_pred_test))"
      ],
      "execution_count": 0,
      "outputs": []
    },
    {
      "cell_type": "code",
      "metadata": {
        "id": "FpZAKndpzPrx",
        "colab_type": "code",
        "colab": {}
      },
      "source": [
        ""
      ],
      "execution_count": 0,
      "outputs": []
    }
  ]
}