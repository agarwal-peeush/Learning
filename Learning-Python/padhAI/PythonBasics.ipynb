{
  "nbformat": 4,
  "nbformat_minor": 0,
  "metadata": {
    "colab": {
      "name": "PythonBasics.ipynb",
      "version": "0.3.2",
      "provenance": [],
      "private_outputs": true,
      "include_colab_link": true
    },
    "kernelspec": {
      "name": "python3",
      "display_name": "Python 3"
    }
  },
  "cells": [
    {
      "cell_type": "markdown",
      "metadata": {
        "id": "view-in-github",
        "colab_type": "text"
      },
      "source": [
        "<a href=\"https://colab.research.google.com/github/agarwal-peeush/Learning/blob/PadhAI_learning/Learning-Python/padhAI/PythonBasics.ipynb\" target=\"_parent\"><img src=\"https://colab.research.google.com/assets/colab-badge.svg\" alt=\"Open In Colab\"/></a>"
      ]
    },
    {
      "cell_type": "markdown",
      "metadata": {
        "id": "G8QgtjwN5HAy",
        "colab_type": "text"
      },
      "source": [
        "# Unix commands in GoogleColab"
      ]
    },
    {
      "cell_type": "code",
      "metadata": {
        "id": "1CWq2_ns2tev",
        "colab_type": "code",
        "colab": {}
      },
      "source": [
        "# Unix command\n",
        "!ls"
      ],
      "execution_count": 0,
      "outputs": []
    },
    {
      "cell_type": "code",
      "metadata": {
        "id": "nBb8T9Dl3J4L",
        "colab_type": "code",
        "colab": {}
      },
      "source": [
        "# CPU info\n",
        "!cat /proc/cpuinfo"
      ],
      "execution_count": 0,
      "outputs": []
    },
    {
      "cell_type": "code",
      "metadata": {
        "id": "fmu-Ltem3NoN",
        "colab_type": "code",
        "colab": {}
      },
      "source": [
        "# RAM info\n",
        "!cat /proc/meminfo"
      ],
      "execution_count": 0,
      "outputs": []
    },
    {
      "cell_type": "code",
      "metadata": {
        "id": "OyvCwRta3axH",
        "colab_type": "code",
        "colab": {}
      },
      "source": [
        ""
      ],
      "execution_count": 0,
      "outputs": []
    },
    {
      "cell_type": "markdown",
      "metadata": {
        "id": "tWdEa7cX6Rox",
        "colab_type": "text"
      },
      "source": [
        "# Python basics"
      ]
    },
    {
      "cell_type": "code",
      "metadata": {
        "id": "g1ZBEf856To2",
        "colab_type": "code",
        "colab": {}
      },
      "source": [
        "name = 'Peeush'\n",
        "age = 31\n",
        "print(name)\n",
        "print(age)"
      ],
      "execution_count": 0,
      "outputs": []
    },
    {
      "cell_type": "code",
      "metadata": {
        "id": "_2YXr4rR6Zd-",
        "colab_type": "code",
        "colab": {}
      },
      "source": [
        "def print_squares(stop_val):\n",
        "  for i in range(stop_val):\n",
        "    print(i, i**2)"
      ],
      "execution_count": 0,
      "outputs": []
    },
    {
      "cell_type": "code",
      "metadata": {
        "id": "IVi8qk2D6mce",
        "colab_type": "code",
        "colab": {}
      },
      "source": [
        "print_squares(5)"
      ],
      "execution_count": 0,
      "outputs": []
    },
    {
      "cell_type": "code",
      "metadata": {
        "id": "V0pPOs386u7n",
        "colab_type": "code",
        "colab": {}
      },
      "source": [
        "def sum_of_squares(stop_val):\n",
        "  sum = 0\n",
        "  for i in range(stop_val):\n",
        "    sum += i**2\n",
        "  return sum\n",
        "\n",
        "sum = sum_of_squares(5)\n",
        "print(sum)"
      ],
      "execution_count": 0,
      "outputs": []
    },
    {
      "cell_type": "code",
      "metadata": {
        "id": "ZxQNWq_O7F_W",
        "colab_type": "code",
        "colab": {}
      },
      "source": [
        "def sum_of_squares_with_startval(stop_val, start_val = 0):\n",
        "  '''Returns sum of squares from start_val to stop_val(exclusive)'''\n",
        "  sum = 0\n",
        "  for i in range(start_val, stop_val):\n",
        "    sum += i**2\n",
        "  return sum\n",
        "\n",
        "sum = sum_of_squares_with_startval(5)\n",
        "print(sum)\n",
        "\n",
        "sum = sum_of_squares_with_startval(5, 3)\n",
        "print(sum)"
      ],
      "execution_count": 0,
      "outputs": []
    },
    {
      "cell_type": "code",
      "metadata": {
        "id": "tiuTfeMM7UBG",
        "colab_type": "code",
        "colab": {}
      },
      "source": [
        "sum_of_squares_with_startval?"
      ],
      "execution_count": 0,
      "outputs": []
    },
    {
      "cell_type": "code",
      "metadata": {
        "id": "W9yShSb57fl2",
        "colab_type": "code",
        "colab": {}
      },
      "source": [
        ""
      ],
      "execution_count": 0,
      "outputs": []
    },
    {
      "cell_type": "markdown",
      "metadata": {
        "id": "yKgkk-2cG2pT",
        "colab_type": "text"
      },
      "source": [
        "#Debugging"
      ]
    },
    {
      "cell_type": "code",
      "metadata": {
        "id": "ukcWO6FWG5kT",
        "colab_type": "code",
        "colab": {}
      },
      "source": [
        "import random"
      ],
      "execution_count": 0,
      "outputs": []
    },
    {
      "cell_type": "code",
      "metadata": {
        "id": "e3rhImBLHeeu",
        "colab_type": "code",
        "colab": {}
      },
      "source": [
        "def factorial(i):\n",
        "  if i==0:\n",
        "    return 1\n",
        "  return i*factorial(i-1)\n",
        "\n",
        "factorial(5)"
      ],
      "execution_count": 0,
      "outputs": []
    },
    {
      "cell_type": "code",
      "metadata": {
        "id": "FR_4v9hkG7WN",
        "colab_type": "code",
        "colab": {}
      },
      "source": [
        "def code_to_debug():\n",
        "  #import pdb; pdb.set_trace()\n",
        "  \n",
        "  for i in range(10):\n",
        "    x = random.random()\n",
        "    factorial_debugged(x)"
      ],
      "execution_count": 0,
      "outputs": []
    },
    {
      "cell_type": "code",
      "metadata": {
        "id": "KsDyx5vpHMlM",
        "colab_type": "code",
        "colab": {}
      },
      "source": [
        "code_to_debug()"
      ],
      "execution_count": 0,
      "outputs": []
    },
    {
      "cell_type": "code",
      "metadata": {
        "id": "31rCzt4LHUIM",
        "colab_type": "code",
        "colab": {}
      },
      "source": [
        "def factorial_debugged(i):\n",
        "  if (not isinstance(i, int)):\n",
        "    print('This method supports only integer')\n",
        "    return -1\n",
        "  \n",
        "  if i == 0:\n",
        "    return 1\n",
        "  return i*factorial(i-1)\n",
        "\n",
        "factorial_debugged(5.12)"
      ],
      "execution_count": 0,
      "outputs": []
    },
    {
      "cell_type": "markdown",
      "metadata": {
        "id": "s8ECS0zcJRfo",
        "colab_type": "text"
      },
      "source": [
        "To check values in Exception use `%xmode Verbose`. This will print values of parameters in the exception stack trace."
      ]
    },
    {
      "cell_type": "code",
      "metadata": {
        "id": "z4Ke-o_kI8kc",
        "colab_type": "code",
        "colab": {}
      },
      "source": [
        ""
      ],
      "execution_count": 0,
      "outputs": []
    }
  ]
}