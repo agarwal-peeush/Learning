{
  "nbformat": 4,
  "nbformat_minor": 0,
  "metadata": {
    "colab": {
      "name": "Vectors.ipynb",
      "version": "0.3.2",
      "provenance": [],
      "private_outputs": true,
      "include_colab_link": true
    },
    "kernelspec": {
      "name": "python3",
      "display_name": "Python 3"
    }
  },
  "cells": [
    {
      "cell_type": "markdown",
      "metadata": {
        "id": "view-in-github",
        "colab_type": "text"
      },
      "source": [
        "<a href=\"https://colab.research.google.com/github/agarwal-peeush/Learning/blob/PadhAI_learning/Learning-Python/padhAI/Vectors.ipynb\" target=\"_parent\"><img src=\"https://colab.research.google.com/assets/colab-badge.svg\" alt=\"Open In Colab\"/></a>"
      ]
    },
    {
      "cell_type": "code",
      "metadata": {
        "id": "U_m5-RSKNzzb",
        "colab_type": "code",
        "colab": {}
      },
      "source": [
        "import numpy as np\n",
        "import matplotlib.pyplot as plt"
      ],
      "execution_count": 0,
      "outputs": []
    },
    {
      "cell_type": "markdown",
      "metadata": {
        "id": "YQRxWQf8N_1j",
        "colab_type": "text"
      },
      "source": [
        "#Plotting vectors using `matplotlib` library"
      ]
    },
    {
      "cell_type": "code",
      "metadata": {
        "id": "W1gGP9H9N6yu",
        "colab_type": "code",
        "colab": {}
      },
      "source": [
        "plt.quiver(0,0,3,4)\n",
        "plt.show()"
      ],
      "execution_count": 0,
      "outputs": []
    },
    {
      "cell_type": "code",
      "metadata": {
        "id": "GhqH5sObN9u7",
        "colab_type": "code",
        "colab": {}
      },
      "source": [
        "# Ensure scales are right\n",
        "plt.quiver(0,0,3,4, scale_units='xy',angles='xy',scale=1)\n",
        "plt.show()"
      ],
      "execution_count": 0,
      "outputs": []
    },
    {
      "cell_type": "code",
      "metadata": {
        "id": "MSCT6mtWOV0C",
        "colab_type": "code",
        "colab": {}
      },
      "source": [
        "# Ensure scales are right\n",
        "plt.quiver(0,0,3,4, scale_units='xy',angles='xy',scale=1)\n",
        "plt.xlim(0,10)\n",
        "plt.ylim(0,10)\n",
        "plt.show()"
      ],
      "execution_count": 0,
      "outputs": []
    },
    {
      "cell_type": "markdown",
      "metadata": {
        "id": "-LO4G88SOukJ",
        "colab_type": "text"
      },
      "source": [
        "##Multiple vectors in plot"
      ]
    },
    {
      "cell_type": "code",
      "metadata": {
        "id": "g8VXk4eFOjzL",
        "colab_type": "code",
        "colab": {}
      },
      "source": [
        "plt.quiver(0,0,3,4, scale_units='xy',angles='xy',scale=1)\n",
        "plt.quiver(0,0,-3,4, scale_units='xy',angles='xy',scale=1)\n",
        "plt.xlim(-10,10)\n",
        "plt.ylim(-10,10)\n",
        "plt.show()"
      ],
      "execution_count": 0,
      "outputs": []
    },
    {
      "cell_type": "code",
      "metadata": {
        "id": "Rg-eEfbgO6La",
        "colab_type": "code",
        "colab": {}
      },
      "source": [
        "# Specify color for vectors\n",
        "plt.quiver(0,0,3,4, scale_units='xy',angles='xy',scale=1, color='r')\n",
        "plt.quiver(0,0,-3,4, scale_units='xy',angles='xy',scale=1, color='g')\n",
        "plt.xlim(-10,10)\n",
        "plt.ylim(-10,10)\n",
        "plt.show()"
      ],
      "execution_count": 0,
      "outputs": []
    },
    {
      "cell_type": "code",
      "metadata": {
        "id": "OXt7pqI7PJi7",
        "colab_type": "code",
        "colab": {}
      },
      "source": [
        "# function to plot list of given vectors in one go\n",
        "def plot_vectors(vec_list):\n",
        "  colors = ['r','g','b','y']\n",
        "  i = 0\n",
        "  min_x = 0\n",
        "  max_x = 0\n",
        "  min_y = 0\n",
        "  max_y = 0\n",
        "  for vec in vec_list:\n",
        "    plt.quiver(vec[0],vec[1],vec[2],vec[3], scale_units='xy', angles='xy', scale=1, color=colors[i%len(colors)])\n",
        "    i += 1\n",
        "    min_x = min(min_x,vec[0],vec[2])\n",
        "    max_x = max(max_x,vec[0],vec[2])\n",
        "    min_y = min(min_y,vec[1],vec[3])\n",
        "    max_y = max(max_y,vec[1],vec[3])\n",
        "    \n",
        "  #print(min_x, min_y)\n",
        "  #print(max_x, max_y)\n",
        "  plt.xlim(min_x-1,max_x+1)\n",
        "  plt.ylim(min_y-1,max_y+1)\n",
        "  plt.show()\n",
        "  \n",
        "plot_vectors([(0,0,1,1),(0,0,2,1),(0,0,1,2),(0,0,-1,1),(0,0,1,-1),(0,0,-1,2),(0,0,2,-1)])"
      ],
      "execution_count": 0,
      "outputs": []
    },
    {
      "cell_type": "code",
      "metadata": {
        "id": "CjcJaPYMSmXr",
        "colab_type": "code",
        "colab": {}
      },
      "source": [
        ""
      ],
      "execution_count": 0,
      "outputs": []
    },
    {
      "cell_type": "markdown",
      "metadata": {
        "id": "NvVQ-q3gTPYp",
        "colab_type": "text"
      },
      "source": [
        "#Vector addition, subtraction"
      ]
    },
    {
      "cell_type": "code",
      "metadata": {
        "id": "hL4F8fI9TSHS",
        "colab_type": "code",
        "colab": {}
      },
      "source": [
        "vecs = [(0,0,1,1),(0,0,2,1),(0,0,1,2),(0,0,-1,1),(0,0,1,-1),(0,0,-1,2),(0,0,2,-1)]"
      ],
      "execution_count": 0,
      "outputs": []
    },
    {
      "cell_type": "code",
      "metadata": {
        "id": "mxkArfBGTal6",
        "colab_type": "code",
        "colab": {}
      },
      "source": [
        "plot_vectors([vecs[0], vecs[4]])"
      ],
      "execution_count": 0,
      "outputs": []
    },
    {
      "cell_type": "code",
      "metadata": {
        "id": "dxG0LxbyTp9y",
        "colab_type": "code",
        "colab": {}
      },
      "source": [
        "# + on Tuple concats values from both tuples in a new tuple\n",
        "vecs[0] + vecs[4] # not addition"
      ],
      "execution_count": 0,
      "outputs": []
    },
    {
      "cell_type": "code",
      "metadata": {
        "id": "MsegP8VpT1_S",
        "colab_type": "code",
        "colab": {}
      },
      "source": [
        "# convert vecs items into numpy arrays\n",
        "vecs = [np.asarray([0,0,1,1]),np.asarray([0,0,2,1]),np.asarray([0,0,1,2]),np.asarray([0,0,-1,1]),np.asarray([0,0,1,-1]),np.asarray([0,0,-1,2]),np.asarray([0,0,2,-1])]"
      ],
      "execution_count": 0,
      "outputs": []
    },
    {
      "cell_type": "code",
      "metadata": {
        "id": "WkcnDSAUUgcK",
        "colab_type": "code",
        "colab": {}
      },
      "source": [
        "plot_vectors([vecs[0], vecs[4]]) # our function still works"
      ],
      "execution_count": 0,
      "outputs": []
    },
    {
      "cell_type": "code",
      "metadata": {
        "id": "Oy9IyztrUV9y",
        "colab_type": "code",
        "colab": {}
      },
      "source": [
        "# Now addition works\n",
        "vecs[0] + vecs[4]"
      ],
      "execution_count": 0,
      "outputs": []
    },
    {
      "cell_type": "code",
      "metadata": {
        "id": "32pb24eIUYdq",
        "colab_type": "code",
        "colab": {}
      },
      "source": [
        "plot_vectors([vecs[0], vecs[4], vecs[0]+vecs[4]])"
      ],
      "execution_count": 0,
      "outputs": []
    },
    {
      "cell_type": "code",
      "metadata": {
        "id": "cjPxiD3fUz2S",
        "colab_type": "code",
        "colab": {}
      },
      "source": [
        "# Subtraction\n",
        "plot_vectors([vecs[0], vecs[4], vecs[0]-vecs[4]])"
      ],
      "execution_count": 0,
      "outputs": []
    },
    {
      "cell_type": "code",
      "metadata": {
        "id": "Ur_fxy6qVZN5",
        "colab_type": "code",
        "colab": {}
      },
      "source": [
        "# Subtraction equivalent to addition with mirror image of 1 vector\n",
        "plot_vectors([vecs[0], -vecs[4], vecs[0]+(-vecs[4])])"
      ],
      "execution_count": 0,
      "outputs": []
    },
    {
      "cell_type": "code",
      "metadata": {
        "id": "p3HWJkQ1VofK",
        "colab_type": "code",
        "colab": {}
      },
      "source": [
        ""
      ],
      "execution_count": 0,
      "outputs": []
    },
    {
      "cell_type": "markdown",
      "metadata": {
        "id": "aR_nZN-xV2CW",
        "colab_type": "text"
      },
      "source": [
        "#Vector dot product"
      ]
    },
    {
      "cell_type": "code",
      "metadata": {
        "id": "US6NXaSnV6iC",
        "colab_type": "code",
        "colab": {}
      },
      "source": [
        "vecs = [np.asarray([0,0,1,1]),np.asarray([0,0,2,1]),np.asarray([0,0,1,2]),np.asarray([0,0,-1,1]),np.asarray([0,0,1,-1]),np.asarray([0,0,-1,2]),np.asarray([0,0,2,-1])]"
      ],
      "execution_count": 0,
      "outputs": []
    },
    {
      "cell_type": "code",
      "metadata": {
        "id": "0hEt4vrfWAZ6",
        "colab_type": "code",
        "colab": {}
      },
      "source": [
        "plot_vectors(vecs)"
      ],
      "execution_count": 0,
      "outputs": []
    },
    {
      "cell_type": "code",
      "metadata": {
        "id": "q-Xp1qpxWFVr",
        "colab_type": "code",
        "colab": {}
      },
      "source": [
        "a = np.asarray([3,4])\n",
        "b = np.asarray([4,-1])"
      ],
      "execution_count": 0,
      "outputs": []
    },
    {
      "cell_type": "markdown",
      "metadata": {
        "id": "aEQbvEoEWWYg",
        "colab_type": "text"
      },
      "source": [
        "$\\vec{a}\\cdot\\vec{b} = |\\vec{a}| |\\vec{b}| \\cos(\\theta) = a_x b_x + a_y b_y$"
      ]
    },
    {
      "cell_type": "code",
      "metadata": {
        "id": "zAYO-1XaWUzi",
        "colab_type": "code",
        "colab": {}
      },
      "source": [
        "a_dot_b = np.dot(a, b)\n",
        "print(a_dot_b)"
      ],
      "execution_count": 0,
      "outputs": []
    },
    {
      "cell_type": "markdown",
      "metadata": {
        "id": "ZLYvOu7aXLbD",
        "colab_type": "text"
      },
      "source": [
        "##Projection of a on b\n",
        "$a_b = |\\vec{a}| \\cos(\\theta) = \\frac{\\vec{a}\\cdot\\vec{b}}{|\\vec{b}|}$"
      ]
    },
    {
      "cell_type": "code",
      "metadata": {
        "id": "PS5iZjB0XA7p",
        "colab_type": "code",
        "colab": {}
      },
      "source": [
        "a_b = np.dot(a, b)/np.linalg.norm(b)\n",
        "print(a_b)"
      ],
      "execution_count": 0,
      "outputs": []
    },
    {
      "cell_type": "markdown",
      "metadata": {
        "id": "ES-kLJR8YZWN",
        "colab_type": "text"
      },
      "source": [
        "###Unit vector\n",
        "$\\vec{a_b} = a_b \\hat{b} = a_b \\frac{\\vec{b}}{|\\vec{b}|}$"
      ]
    },
    {
      "cell_type": "code",
      "metadata": {
        "id": "5ia9FFnvYQRf",
        "colab_type": "code",
        "colab": {}
      },
      "source": [
        "vec_a_b = (a_b/np.linalg.norm(b))*b\n",
        "print(vec_a_b)"
      ],
      "execution_count": 0,
      "outputs": []
    },
    {
      "cell_type": "code",
      "metadata": {
        "id": "l4dfNP2LZLni",
        "colab_type": "code",
        "colab": {}
      },
      "source": [
        "plot_vectors([(0,0,3,4),(0,0,4,-1),(0,0,1.88235294,-0.47058824)])"
      ],
      "execution_count": 0,
      "outputs": []
    },
    {
      "cell_type": "markdown",
      "metadata": {
        "id": "e2_UHeGhaLPK",
        "colab_type": "text"
      },
      "source": [
        "##Projection of b on a\n",
        "$b_a = |\\vec{b}| \\cos({\\theta}) = \\frac{\\vec{b}\\cdot\\vec{a}}{|\\vec{a}|}$"
      ]
    },
    {
      "cell_type": "code",
      "metadata": {
        "id": "63H5a82GZR6K",
        "colab_type": "code",
        "colab": {}
      },
      "source": [
        "b_a = np.dot(b,a)/np.linalg.norm(a)\n",
        "print(b_a)"
      ],
      "execution_count": 0,
      "outputs": []
    },
    {
      "cell_type": "code",
      "metadata": {
        "id": "DSuLZrqMbnMG",
        "colab_type": "code",
        "colab": {}
      },
      "source": [
        "vec_b_a = (b_a/np.linalg.norm(a))*a\n",
        "print(vec_b_a)"
      ],
      "execution_count": 0,
      "outputs": []
    },
    {
      "cell_type": "code",
      "metadata": {
        "id": "4_lHSYBrcO3S",
        "colab_type": "code",
        "colab": {}
      },
      "source": [
        "plot_vectors([(0,0,3,4),(0,0,4,-1),(0,0,0.96,1.28)])"
      ],
      "execution_count": 0,
      "outputs": []
    },
    {
      "cell_type": "code",
      "metadata": {
        "id": "_NcAclL2cXaC",
        "colab_type": "code",
        "colab": {}
      },
      "source": [
        ""
      ],
      "execution_count": 0,
      "outputs": []
    }
  ]
}