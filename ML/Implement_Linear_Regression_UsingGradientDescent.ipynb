{
 "cells": [
  {
   "cell_type": "markdown",
   "metadata": {},
   "source": [
    "# Implement Linear Regression using Python [Source](https://towardsdatascience.com/linear-regression-using-python-b136c91bf0a2)"
   ]
  },
  {
   "cell_type": "code",
   "execution_count": 2,
   "metadata": {},
   "outputs": [],
   "source": [
    "import numpy as np"
   ]
  },
  {
   "cell_type": "code",
   "execution_count": 24,
   "metadata": {},
   "outputs": [],
   "source": [
    "# generate random data-set\n",
    "np.random.seed(0)\n",
    "x = np.random.rand(100, 1)\n",
    "y = 2 + 3 * x + np.random.rand(100, 1)"
   ]
  },
  {
   "cell_type": "code",
   "execution_count": 25,
   "metadata": {},
   "outputs": [
    {
     "name": "stdout",
     "output_type": "stream",
     "text": [
      "(100, 1)\n",
      "(100, 1)\n"
     ]
    },
    {
     "data": {
      "text/plain": [
       "array([[0.]])"
      ]
     },
     "execution_count": 25,
     "metadata": {},
     "output_type": "execute_result"
    }
   ],
   "source": [
    "print(x.shape)\n",
    "print(y.shape)\n",
    "\n",
    "np.zeros((x.shape[1], 1))"
   ]
  },
  {
   "cell_type": "code",
   "execution_count": 7,
   "metadata": {},
   "outputs": [],
   "source": [
    "class LinearRegressionUsingGD:\n",
    "    \"\"\"Linear Regression Using Gradient Descent.\n",
    "    Parameters\n",
    "    ----------\n",
    "    eta : float\n",
    "        Learning rate\n",
    "    n_iterations : int\n",
    "        No of passes over the training set\n",
    "    Attributes\n",
    "    ----------\n",
    "    w_ : weights/ after fitting the model\n",
    "    cost_ : total error of the model after each iteration\n",
    "    \"\"\"\n",
    "    \n",
    "    def __init__(self, eta=0.05, n_iterations=1000):\n",
    "        self.eta = eta\n",
    "        self.n_iterations = n_iterations\n",
    "\n",
    "    def fit(self, x, y):\n",
    "        \"\"\"Fit the training data\n",
    "        Parameters\n",
    "        ----------\n",
    "        x : array-like, shape = [n_samples, n_features]\n",
    "            Training samples\n",
    "        y : array-like, shape = [n_samples, n_target_values]\n",
    "            Target values\n",
    "        Returns\n",
    "        -------\n",
    "        self : object\n",
    "        \"\"\"\n",
    "        \n",
    "        self.cost_ = []\n",
    "        self.w_ = np.zeros((x.shape[1], 1))\n",
    "        m = x.shape[0]\n",
    "\n",
    "        for _ in range(self.n_iterations):\n",
    "            y_pred = np.dot(x, self.w_)\n",
    "            residuals = y_pred - y\n",
    "            gradient_vector = np.dot(x.T, residuals)\n",
    "            self.w_ -= (self.eta / m) * gradient_vector\n",
    "            cost = np.sum((residuals ** 2)) / (2 * m)\n",
    "            self.cost_.append(cost)\n",
    "        return self\n",
    "    \n",
    "    def predict(self, x):\n",
    "        \"\"\" Predicts the value after the model has been trained.\n",
    "        Parameters\n",
    "        ----------\n",
    "        x : array-like, shape = [n_samples, n_features]\n",
    "            Test samples\n",
    "        Returns\n",
    "        -------\n",
    "        Predicted value\n",
    "        \"\"\"\n",
    "        return np.dot(x, self.w_)"
   ]
  },
  {
   "cell_type": "code",
   "execution_count": 10,
   "metadata": {},
   "outputs": [],
   "source": [
    "# Predict for x\n",
    "model = LinearRegressionUsingGD()\n",
    "model.fit(x, y)\n",
    "y_pred = model.predict(x)"
   ]
  },
  {
   "cell_type": "markdown",
   "metadata": {},
   "source": [
    "## Model Evaluation\n",
    "\n",
    "**RMSE** is the square root of the average of the sum of the squares of residuals.\n",
    "\n",
    "![RMSE](https://cdn-images-1.medium.com/max/1000/1*-j7StdUGMAFvLGx7hD-Nzg.png)\n",
    "\n",
    "**R² score or the coefficient of determination** explains how much the total variance of the dependent variable can be reduced by using the least square regression.\n",
    "\n",
    "![R-score](https://cdn-images-1.medium.com/max/1000/1*dUAJL0vVJw7gfb5cq3eluA.png)\n",
    "\n",
    "SSₜ is the total sum of errors if we take the mean of the observed values as the predicted value.\n",
    "\n",
    "![SSₜ formula](https://cdn-images-1.medium.com/max/1000/1*GAqVi6BDifcmeQeIXDaeiA.png)\n",
    "\n",
    "SSᵣ is the sum of the square of residuals\n",
    "\n",
    "![SSᵣ formula](https://cdn-images-1.medium.com/max/1000/1*YES7smJ6HquuEfYEZOxoWg.png)"
   ]
  },
  {
   "cell_type": "code",
   "execution_count": 17,
   "metadata": {},
   "outputs": [
    {
     "name": "stdout",
     "output_type": "stream",
     "text": [
      "1.3601174758329595\n"
     ]
    }
   ],
   "source": [
    "# mean squared error\n",
    "mse = np.sum((y_pred - y)**2)\n",
    "\n",
    "# root mean squared error\n",
    "# m is the number of training examples\n",
    "m = x.shape[0]\n",
    "rmse = np.sqrt(mse/m)\n",
    "\n",
    "print(rmse)"
   ]
  },
  {
   "cell_type": "code",
   "execution_count": 19,
   "metadata": {},
   "outputs": [
    {
     "name": "stdout",
     "output_type": "stream",
     "text": [
      "SST: 79.29857743441877\n",
      "SSR: 184.9919548066221\n",
      "R2-score: -1.3328533851646136\n"
     ]
    }
   ],
   "source": [
    "# sum of square of residuals\n",
    "ssr = np.sum((y_pred - y)**2)\n",
    "\n",
    "#  total sum of squares\n",
    "sst = np.sum((y - np.mean(y))**2)\n",
    "\n",
    "# R2 score\n",
    "r2_score = 1 - (ssr/sst)\n",
    "\n",
    "print(\"SST:\",sst)\n",
    "print(\"SSR:\",ssr)\n",
    "print(\"R2-score:\",r2_score)"
   ]
  },
  {
   "cell_type": "code",
   "execution_count": null,
   "metadata": {},
   "outputs": [],
   "source": []
  }
 ],
 "metadata": {
  "kernelspec": {
   "display_name": "Python 3",
   "language": "python",
   "name": "python3"
  },
  "language_info": {
   "codemirror_mode": {
    "name": "ipython",
    "version": 3
   },
   "file_extension": ".py",
   "mimetype": "text/x-python",
   "name": "python",
   "nbconvert_exporter": "python",
   "pygments_lexer": "ipython3",
   "version": "3.6.5"
  }
 },
 "nbformat": 4,
 "nbformat_minor": 2
}
