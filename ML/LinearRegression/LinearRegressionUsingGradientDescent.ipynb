{
 "cells": [
  {
   "cell_type": "markdown",
   "metadata": {},
   "source": [
    "# Linear Regression"
   ]
  },
  {
   "cell_type": "markdown",
   "metadata": {},
   "source": [
    "## Table of contents\n",
    "1. What is Linear Regression?\n",
    "2. Hypothesis of Linear Regression\n",
    "3. Training a Linear Regression model\n",
    "4. Evaluating the model\n",
    "5. scikit-learn implementation"
   ]
  },
  {
   "cell_type": "markdown",
   "metadata": {},
   "source": [
    "## What is Linear Regression?\n",
    "The objective of Linear Regression model is to find a relationship between one or more features(independent variables) and a continuous target variable(or dependent variable). When there is only feature, it is called *Univariate Linear Regression* and if there are multiple features, it is called *Multivariate Linear Regression*"
   ]
  },
  {
   "cell_type": "markdown",
   "metadata": {},
   "source": [
    "## Hypothesis of Linear Regression\n",
    "The linear regression model can be represented by the following equation:      \n",
    "\n",
    "$$ Y = \\theta_0 + \\theta_1 x_1 + \\theta_2 x_2 + \\dots + \\theta_n x_n $$\n",
    "\n",
    "- Y is the predicted value\n",
    "- $ \\theta_0 $ is the bias term.\n",
    "- $ \\theta_1,...,\\theta_n $ are the model parameters\n",
    "- $ x_1,...,x_n $ are the feature values\n",
    "\n",
    "The above hypothesis can also be represented by  \n",
    "$$ Y = \\theta^T X $$\n",
    "\n",
    "where\n",
    "- $ \\theta $ is the model's parameter vector including the bias term $ \\theta_0 $\n",
    "- X is the feature vector with $ x_0 = 1 $"
   ]
  },
  {
   "cell_type": "markdown",
   "metadata": {},
   "source": [
    "#### Dataset\n",
    "Let's create some random data-set to train our model."
   ]
  },
  {
   "cell_type": "code",
   "execution_count": 1,
   "metadata": {},
   "outputs": [
    {
     "data": {
      "text/plain": [
       "<Figure size 640x480 with 1 Axes>"
      ]
     },
     "metadata": {},
     "output_type": "display_data"
    }
   ],
   "source": [
    "# imports\n",
    "import numpy as np\n",
    "import matplotlib.pyplot as plt\n",
    "\n",
    "# generate random data-set\n",
    "np.random.seed(0)\n",
    "x = np.random.rand(100, 1)\n",
    "y = 2 + 3 * x + np.random.rand(100, 1)\n",
    "\n",
    "# plot\n",
    "plt.scatter(x, y, s=10)\n",
    "plt.xlabel('x')\n",
    "plt.ylabel('y')\n",
    "plt.show()"
   ]
  },
  {
   "cell_type": "markdown",
   "metadata": {},
   "source": [
    "## Training a Linear Regression model\n",
    "Training of the model here means to find the parameters so that the model best fits the data.\n",
    "\n",
    "**How do we determine the best fit line?**  \n",
    "The line for which the error between the predicted values and the observed values is minimum is called the best fit line or the **regression** line. These errors are also called as **residuals**. The residuals can be visualized by the vertical lines from the observed data value to the regression line.\n",
    "\n",
    "![Residual errors](https://miro.medium.com/max/394/1*6lzTBeDt_J39XPvhI4NAMg.png)\n",
    "Image credits: __[Animesh Agarwal blog](https://towardsdatascience.com/linear-regression-using-python-b136c91bf0a2)__\n",
    "\n",
    "To define and measure the error of our model we define the cost function as the sum of the squares of the residuals. The cost function is denoted by  \n",
    "$$ J(\\theta) = \\frac1{2m}\\ \\sum_{i=1}^m (h(x^i) - y^i)^2 $$"
   ]
  },
  {
   "cell_type": "markdown",
   "metadata": {},
   "source": [
    "where the hypothesis function h(x) is denoted by\n",
    "\n",
    "$$ h(x) = \\theta_0 + \\theta_1 x_1 + \\dots + \\theta_n x_n $$\n",
    "\n",
    "and m is the total number of training examples in our dataset.\n",
    "\n",
    "<div class=\"alert alert-block alert-success\">\n",
    "<b>Why do we take the square of the residuals and not the absolute value of the residuals?</b><br/>\n",
    "We want to penalize the points which are farther from the regression line much more than the points which lie close to the line.\n",
    "</div>\n",
    "\n",
    "Our objective is to find the model parameters so that the cost function is minimum. We will use Gradient Descent to find this. "
   ]
  },
  {
   "cell_type": "markdown",
   "metadata": {},
   "source": [
    "### Gradient descent \n",
    "Gradient descent is a generic optimization algorithm and it iteratively tweaks the parameters of model in order to minimize the cost function. The steps of gradient descent is outlined below:\n",
    "\n",
    "1. We first initialize the model parameters with some random values. This is called as **random initialization**\n",
    "2. Now we need to measure how cost function changes with change in it's parameters. Therefore, we compute the partial derivative of the cost function w.r.t. the parameters $ \\theta_0, \\theta_1, ..., \\theta_n $\n",
    "    $$ \\frac{\\partial J(\\theta)}{\\partial \\theta_0} = \\frac1{m} \\sum_{i=1}^m (h(x^i) - y^i) $$\n",
    "    $$ \\frac{\\partial J(\\theta)}{\\partial \\theta_1} = \\frac1{m} \\sum_{i=1}^m (h(x^i) - y^i) x_1^i $$\n",
    "    \n",
    "    similarly, the partial derivative of the cost function w.r.t. any parameter can be denoted by\n",
    "    $$ \\frac{\\partial J(\\theta)}{\\partial \\theta_j} = \\frac1{m} \\sum_{i=1}^m (h(x^i) - y^i) x_j^i $$\n",
    "    \n",
    "    We can compute the partial derivatives for all parameters at once using\n",
    "    <center> \n",
    "    \\begin{equation*}\n",
    "        \\begin{bmatrix}\n",
    "            \\frac{\\partial J(\\theta)}{\\partial \\theta_0} \\\\\n",
    "            \\frac{\\partial J(\\theta)}{\\partial \\theta_1} \\\\\n",
    "            \\vdots \\\\\n",
    "            \\frac{\\partial J(\\theta)}{\\partial \\theta_n} \\\\\n",
    "        \\end{bmatrix}\n",
    "    = \\frac1{m} x^T (h(x) - y)\n",
    "    \\end{equation*} </center>\n",
    "    \n",
    "    where h(x) is \n",
    "    $$ h(x) = \\theta_0 + \\theta_1 x_1 + \\dots + \\theta_n x_n $$\n",
    "    \n",
    "3. After computing the derivative we update the parameters as given below\n",
    "    $$ \\theta_0 = \\theta_0 - \\frac{\\alpha}{m} \\sum_{i=1}^m (h(x^i) - y^i) $$\n",
    "    $$ \\theta_1 = \\theta_1 - \\frac{\\alpha}{m} \\sum_{i=1}^m (h(x^i) - y^i) x_1^i $$\n",
    "    \n",
    "    where \\alpha is the learning parameter.\n",
    "    \n",
    "    We can update all the parameters at once using\n",
    "    \\begin{equation*}\n",
    "        \\begin{bmatrix}\n",
    "            \\theta_0 \\\\\n",
    "            \\theta_1 \\\\\n",
    "            \\vdots \\\\\n",
    "            \\theta_n\n",
    "        \\end{bmatrix}\n",
    "        = \\begin{bmatrix}\n",
    "            \\theta_0 \\\\\n",
    "            \\theta_1 \\\\\n",
    "            \\vdots \\\\\n",
    "            \\theta_n\n",
    "        \\end{bmatrix}\n",
    "        - \\alpha \\begin{bmatrix}\n",
    "            \\frac{\\partial J(\\theta)}{\\partial \\theta_0} \\\\\n",
    "            \\frac{\\partial J(\\theta)}{\\partial \\theta_1} \\\\\n",
    "            \\vdots \\\\\n",
    "            \\frac{\\partial J(\\theta)}{\\partial \\theta_n} \\\\\n",
    "        \\end{bmatrix}\n",
    "    \\end{equation*}\n",
    "    \n",
    "    We repeat the steps 2,3 until the cost function converges to the minimum value. If the value of $ \\alpha $ is too small, the cost function takes longer time to converge. If $ \\alpha $ is too large, gradient descent may overshoot the minimum and may finally fail to converge. "
   ]
  },
  {
   "cell_type": "markdown",
   "metadata": {},
   "source": [
    "To demonstrate the gradient descent algorithm, we initialize the model parameters with 0. The equation becomes Y = 0. Gradient descent algorithm now tries to update the value of the parameters so that we arrive at the best fit line. "
   ]
  },
  {
   "cell_type": "markdown",
   "metadata": {},
   "source": [
    "### Implementing Linear Regression from scratch"
   ]
  },
  {
   "cell_type": "code",
   "execution_count": 2,
   "metadata": {},
   "outputs": [],
   "source": [
    "# imports\n",
    "import numpy as np\n",
    "\n",
    "class LinearRegressionUsingGD:\n",
    "    \"\"\"Linear Regression Using Gradient Descent.\n",
    "    \n",
    "    Parameters\n",
    "    ----------\n",
    "    eta : float\n",
    "        Learning rate\n",
    "    n_iterations : int\n",
    "        No of passes over the training set\n",
    "    \n",
    "    Attributes\n",
    "    ----------\n",
    "    w_ : weights/ after fitting the model\n",
    "    cost_ : total error of the model after each iteration\n",
    "    \n",
    "    \"\"\"\n",
    "    \n",
    "    def __init__(self, eta=0.05, n_iterations=1000):\n",
    "        self.eta = eta\n",
    "        self.n_iterations = n_iterations\n",
    "        \n",
    "    def fit(self, x, y):\n",
    "        \"\"\"Fit the training data\n",
    "        \n",
    "        Parameters\n",
    "        ----------\n",
    "        x : array-like, shape = [m_samples, n_features]\n",
    "            Training samples\n",
    "        y : array-like, shape = [m_samples, n_target_values]\n",
    "            Target values\n",
    "        \n",
    "        Returns\n",
    "        -------\n",
    "        self : object\n",
    "        \n",
    "        \"\"\"\n",
    "        \n",
    "        # Add 1s column for weight-0\n",
    "        X = self.__add1sColumnToFeatureArray(x)\n",
    "        \n",
    "        self.cost_ = []\n",
    "        self.w_ = np.zeros((X.shape[1], 1))\n",
    "        m = X.shape[0]\n",
    "        \n",
    "        for _ in range(self.n_iterations):\n",
    "            y_pred = np.dot(X, self.w_)\n",
    "            residuals = y_pred - y\n",
    "            gradient_vector = np.dot(X.T, residuals)\n",
    "            self.w_ -= (self.eta / m)*gradient_vector\n",
    "            cost = np.sum((residuals**2))/(2*m)\n",
    "            self.cost_.append(cost)\n",
    "            \n",
    "        return self\n",
    "    \n",
    "    def predict(self, x):\n",
    "        \"\"\" Predicts the value after the model has been trained.\n",
    "        \n",
    "        Parameters\n",
    "        ----------\n",
    "        x : array-like, shape = [n_samples, n_features]\n",
    "            Test samples\n",
    "        \n",
    "        Returns\n",
    "        -------\n",
    "        Predicted value\n",
    "        \n",
    "        \"\"\"\n",
    "        X = self.__add1sColumnToFeatureArray(x)\n",
    "        \n",
    "        return np.dot(X, self.w_)\n",
    "    \n",
    "    def __add1sColumnToFeatureArray(self, x): # Private method\n",
    "        # Add 1s column for weight-0\n",
    "        return np.column_stack((np.ones((x.shape[0],1)), x))"
   ]
  },
  {
   "cell_type": "code",
   "execution_count": 3,
   "metadata": {},
   "outputs": [
    {
     "data": {
      "text/plain": [
       "<__main__.LinearRegressionUsingGD at 0x27ef82b9518>"
      ]
     },
     "execution_count": 3,
     "metadata": {},
     "output_type": "execute_result"
    }
   ],
   "source": [
    "from sklearn.model_selection import train_test_split\n",
    "x_train, x_test, y_train, y_test = train_test_split(x, y, test_size=.3, random_state=0)\n",
    "\n",
    "model = LinearRegressionUsingGD() # eta=0.05, n_iterations = 1000\n",
    "model.fit(x_train, y_train)\n"
   ]
  },
  {
   "cell_type": "code",
   "execution_count": 4,
   "metadata": {},
   "outputs": [
    {
     "data": {
      "text/plain": [
       "array([[2.60746637],\n",
       "       [2.85197613]])"
      ]
     },
     "execution_count": 4,
     "metadata": {},
     "output_type": "execute_result"
    }
   ],
   "source": [
    "model.w_"
   ]
  },
  {
   "cell_type": "code",
   "execution_count": 5,
   "metadata": {},
   "outputs": [],
   "source": [
    "y_predict = model.predict(x_test)"
   ]
  },
  {
   "cell_type": "code",
   "execution_count": 7,
   "metadata": {},
   "outputs": [
    {
     "data": {
      "image/png": "[encoded data removed]",
      "text/plain": [
       "<Figure size 432x288 with 1 Axes>"
      ]
     },
     "metadata": {
      "needs_background": "light"
     },
     "output_type": "display_data"
    }
   ],
   "source": [
    "plt.scatter(x_test, y_test, s=10)\n",
    "plt.xlabel('x')\n",
    "plt.ylabel('y')\n",
    "plt.plot(x_test, y_predict, color='r')\n",
    "plt.show()"
   ]
  },
  {
   "cell_type": "markdown",
   "metadata": {},
   "source": [
    "Till now we've implemented Linear Regression from scratch and used gradient descent to find the model parameters. But how good is our model?\n",
    "\n",
    "## Evaluating the model\n",
    "We will be using **Root Mean Squared Error (RMSE)** and Coefficient Determination($ R^2 $ score) to evaluate our model. \n",
    "\n",
    "### RMSE\n",
    "RMSE is the square root of average of the sum of the squares of residuals. \n",
    "\n",
    "RMSE is defined by\n",
    "$$ RMSE = \\sqrt{\\frac1{m} \\sum_{i=1}^m (h(x^i) - y^i)^2} $$"
   ]
  },
  {
   "cell_type": "code",
   "execution_count": 13,
   "metadata": {},
   "outputs": [
    {
     "name": "stdout",
     "output_type": "stream",
     "text": [
      "Mean Squared Error =  0.08492949957212169\n",
      "Root mean squared error =  0.29142666242490867\n"
     ]
    }
   ],
   "source": [
    "# Mean Squared Error\n",
    "mse = np.mean((y_test - y_predict)**2)\n",
    "print('Mean Squared Error = ', mse)\n",
    "\n",
    "rmse = np.sqrt(mse)\n",
    "print('Root mean squared error = ', rmse)"
   ]
  },
  {
   "cell_type": "markdown",
   "metadata": {},
   "source": [
    "$ R^2 $ score or the coefficient of determination explains how much the total variance of the dependent variable can be reduced by using the least square regression. \n",
    "\n",
    "$ R^2 $ is determined by \n",
    "$$ R^2 = 1 - \\frac{SS_r}{SS_t} $$\n",
    "\n",
    "where, $ SS_t $ is the total sum of errors if we take the mean of the observed values as the predicted value. \n",
    "$$ SS_t = \\sum_{i=1}^m (y^i - \\bar{y})^2  $$\n",
    "\n",
    "$ SS_r $ is the sum of the square of residuals\n",
    "$$ SS_r = \\sum_{i=1}^m (h(x^i) - y^i)^2  $$"
   ]
  },
  {
   "cell_type": "code",
   "execution_count": 15,
   "metadata": {},
   "outputs": [
    {
     "name": "stdout",
     "output_type": "stream",
     "text": [
      "Sum of squares of residuals =  2.5478849871636506\n",
      "Total sum of squares =  23.846335706615392\n",
      "R2 score =  0.8931540250665505\n"
     ]
    }
   ],
   "source": [
    "# sum of squares of residuals\n",
    "ssr = np.sum((y_predict - y_test)**2)\n",
    "print ('Sum of squares of residuals = ', ssr)\n",
    "\n",
    "# total sum of squares\n",
    "sst = np.sum((y_test - np.mean(y_test))**2)\n",
    "print ('Total sum of squares = ', sst)\n",
    "\n",
    "# r2 score\n",
    "r2_score = 1 - (ssr/sst)\n",
    "print ('R2 score = ', r2_score)"
   ]
  },
  {
   "cell_type": "markdown",
   "metadata": {},
   "source": [
    "> If we use the mean of the observed values as the predicted value the variance is 23.846 and if we use regression the total variance is 2.548. We reduced the prediction error by ~89% by using regression. "
   ]
  },
  {
   "cell_type": "markdown",
   "metadata": {},
   "source": [
    "Now, let's try to implement linear regression using the popular scikit-learn library. \n",
    "\n",
    "### Scikit-learn implementation"
   ]
  },
  {
   "cell_type": "code",
   "execution_count": 18,
   "metadata": {},
   "outputs": [
    {
     "data": {
      "image/png": "[encoded data removed]",
      "text/plain": [
       "<Figure size 432x288 with 1 Axes>"
      ]
     },
     "metadata": {
      "needs_background": "light"
     },
     "output_type": "display_data"
    },
    {
     "name": "stdout",
     "output_type": "stream",
     "text": [
      "Model intercept =  [2.57960923]\n",
      "Model coefficients =  [[2.90298892]]\n",
      "Mean Squared error =  0.08356265506631197\n",
      "Root Mean Squared error =  0.2890720586053103\n",
      "R2 score =  0.8948735905242705\n"
     ]
    },
    {
     "data": {
      "image/png": "[encoded data removed]",
      "text/plain": [
       "<Figure size 432x288 with 1 Axes>"
      ]
     },
     "metadata": {
      "needs_background": "light"
     },
     "output_type": "display_data"
    }
   ],
   "source": [
    "import numpy as np\n",
    "import matplotlib.pyplot as plt\n",
    "from sklearn.linear_model import LinearRegression\n",
    "from sklearn.model_selection import train_test_split\n",
    "from sklearn.metrics import mean_squared_error, r2_score\n",
    "\n",
    "# generate random data-set\n",
    "np.random.seed(0)\n",
    "x = np.random.rand(100, 1)\n",
    "y = 2 + 3 * x + np.random.rand(100, 1)\n",
    "\n",
    "# plot\n",
    "plt.scatter(x, y, s=10)\n",
    "plt.xlabel('x')\n",
    "plt.ylabel('y')\n",
    "plt.show()\n",
    "\n",
    "# train and test split of dataset\n",
    "x_train, x_test, y_train, y_test = train_test_split(x, y, test_size=0.3, random_state=0)\n",
    "\n",
    "model = LinearRegression()\n",
    "model.fit(x_train, y_train)\n",
    "print('Model intercept = ', model.intercept_)\n",
    "print('Model coefficients = ', model.coef_)\n",
    "\n",
    "y_predict = model.predict(x_test)\n",
    "\n",
    "mse = mean_squared_error(y_true=y_test, y_pred=y_predict)\n",
    "print('Mean Squared error = ', mse)\n",
    "\n",
    "rmse = np.sqrt(mse)\n",
    "print('Root Mean Squared error = ', rmse)\n",
    "\n",
    "r2score = r2_score(y_test, y_predict)\n",
    "print('R2 score = ', r2score)\n",
    "\n",
    "plt.scatter(x_test, y_test, s=10)\n",
    "plt.xlabel('x')\n",
    "plt.ylabel('y')\n",
    "plt.plot(x_test, y_predict, color='r')\n",
    "plt.show()"
   ]
  },
  {
   "cell_type": "markdown",
   "metadata": {},
   "source": [
    "This is similar to what we achieved when we implemented Linear Regression from scratch. "
   ]
  }
 ],
 "metadata": {
  "kernelspec": {
   "display_name": "Python 3",
   "language": "python",
   "name": "python3"
  },
  "language_info": {
   "codemirror_mode": {
    "name": "ipython",
    "version": 3
   },
   "file_extension": ".py",
   "mimetype": "text/x-python",
   "name": "python",
   "nbconvert_exporter": "python",
   "pygments_lexer": "ipython3",
   "version": "3.7.1"
  }
 },
 "nbformat": 4,
 "nbformat_minor": 2
}
