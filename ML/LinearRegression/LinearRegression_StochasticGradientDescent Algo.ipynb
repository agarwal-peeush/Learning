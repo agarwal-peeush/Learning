{
 "cells": [
  {
   "cell_type": "code",
   "execution_count": 3,
   "metadata": {},
   "outputs": [],
   "source": [
    "# Let X = [4, 2, 1, 3, 1, 6]\n",
    "# Let Y = [2, -14, 1, -1, -7, -8]\n",
    "\n",
    "X = [4, 2, 1, 3, 1, 6]\n",
    "Y = [2, -14, 1, -1, -7, -8]"
   ]
  },
  {
   "cell_type": "code",
   "execution_count": 4,
   "metadata": {},
   "outputs": [
    {
     "name": "stdout",
     "output_type": "stream",
     "text": [
      "[4, 2, 1, 3, 1, 6]\n",
      "[2, -14, 1, -1, -7, -8]\n"
     ]
    }
   ],
   "source": [
    "print(X)\n",
    "print(Y)"
   ]
  },
  {
   "cell_type": "code",
   "execution_count": 12,
   "metadata": {},
   "outputs": [],
   "source": [
    "# Let eq be Y-predict = b + w*X where b and w are constants\n",
    "\n",
    "def calculatePredict(b, w, x):\n",
    "    return b + w * x\n",
    "\n",
    "# Let Loss fn, L = (y-predict - y)^2\n",
    "\n",
    "def calculateLoss(y_predict, y):\n",
    "    return (y_predict - y)**2\n",
    "\n",
    "def updateWeight(weight, alpha, partialDeriv):\n",
    "    return weight - alpha * partialDeriv\n",
    "\n",
    "# Forward Propgation\n",
    "def forward_propogation(b, w, x, y):\n",
    "    # Step1: Initialize weights\n",
    "    # Step2: Feed the data\n",
    "    # Step3: Calculate y_predict\n",
    "    y_predict = calculatePredict(b,w,x)\n",
    "    # Step4: Calcualte Loss\n",
    "    loss = calculateLoss(y_predict, y)\n",
    "    \n",
    "    print(\"y_predict={0}, Loss={1}\".format(y_predict, loss))\n",
    "    \n",
    "    return y_predict\n",
    "    \n",
    "def backward_propogation(b, w, x, y, y_predict, alpha):\n",
    "    # Compute all partial derivatives\n",
    "    partial_deriv_of_y_predict_over_b = 1\n",
    "    partial_deriv_of_y_predict_over_w = x\n",
    "    partial_deriv_of_L_over_y_predict = 2 * (y_predict - y)\n",
    "    \n",
    "    partial_deriv_of_L_over_b = partial_deriv_of_L_over_y_predict * partial_deriv_of_y_predict_over_b\n",
    "    partial_deriv_of_L_over_w = partial_deriv_of_L_over_y_predict * partial_deriv_of_y_predict_over_w\n",
    "    \n",
    "    # Update weights\n",
    "    b = updateWeight(b, alpha, partial_deriv_of_L_over_b)\n",
    "    w = updateWeight(w, alpha, partial_deriv_of_L_over_w)\n",
    "    \n",
    "    return (b, w)\n",
    "    "
   ]
  },
  {
   "cell_type": "code",
   "execution_count": 18,
   "metadata": {},
   "outputs": [],
   "source": [
    "def StochasticGradientDescent():\n",
    "    alpha = 0.05\n",
    "    b = 0\n",
    "    w = 1\n",
    "    \n",
    "    for i in range(6):\n",
    "        x = X[i]\n",
    "        y = Y[i]\n",
    "        y_predict = forward_propogation(b, w, x, y)\n",
    "        (b,w) = backward_propogation(b, w, x, y, y_predict, alpha)\n",
    "    \n",
    "    return (b,w)"
   ]
  },
  {
   "cell_type": "code",
   "execution_count": 23,
   "metadata": {},
   "outputs": [
    {
     "name": "stdout",
     "output_type": "stream",
     "text": [
      "y_predict=4, Loss=4\n",
      "y_predict=0.1999999999999999, Loss=201.64\n",
      "y_predict=-4.26, Loss=27.667599999999997\n",
      "y_predict=-7.436, Loss=41.422095999999996\n",
      "y_predict=-0.6335999999999996, Loss=40.53104896000001\n",
      "y_predict=-6.006079999999999, Loss=3.9757169664000043\n",
      "-1.286432\n",
      "-2.0161920000000007\n"
     ]
    }
   ],
   "source": [
    "(beta_0, beta_1) = StochasticGradientDescent()\n",
    "print(beta_0)\n",
    "print(beta_1)"
   ]
  },
  {
   "cell_type": "code",
   "execution_count": 24,
   "metadata": {},
   "outputs": [
    {
     "name": "stdout",
     "output_type": "stream",
     "text": [
      "-9.351200000000002\n",
      "-5.318816000000002\n",
      "-3.3026240000000007\n",
      "-7.335008000000002\n",
      "-3.3026240000000007\n",
      "-13.383584000000004\n"
     ]
    }
   ],
   "source": [
    "print(beta_0 + beta_1 * 4)\n",
    "print(beta_0 + beta_1 * 2)\n",
    "print(beta_0 + beta_1 * 1)\n",
    "print(beta_0 + beta_1 * 3)\n",
    "print(beta_0 + beta_1 * 1)\n",
    "print(beta_0 + beta_1 * 6)"
   ]
  },
  {
   "cell_type": "code",
   "execution_count": null,
   "metadata": {},
   "outputs": [],
   "source": []
  }
 ],
 "metadata": {
  "jupytext": {
   "main_language": "python"
  },
  "kernelspec": {
   "display_name": "Python 3",
   "language": "python",
   "name": "python3"
  },
  "language_info": {
   "codemirror_mode": {
    "name": "ipython",
    "version": 3
   },
   "file_extension": ".py",
   "mimetype": "text/x-python",
   "name": "python",
   "nbconvert_exporter": "python",
   "pygments_lexer": "ipython3",
   "version": "3.7.1"
  }
 },
 "nbformat": 4,
 "nbformat_minor": 2
}
